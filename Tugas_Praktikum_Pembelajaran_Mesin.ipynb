{
  "nbformat": 4,
  "nbformat_minor": 0,
  "metadata": {
    "colab": {
      "name": "Tugas-Praktikum-Pembelajaran-Mesin.ipynb",
      "provenance": [],
      "collapsed_sections": [],
      "authorship_tag": "ABX9TyNrXEjTpTpCP+8SntuyVjKH",
      "include_colab_link": true
    },
    "kernelspec": {
      "name": "python3",
      "display_name": "Python 3"
    },
    "language_info": {
      "name": "python"
    }
  },
  "cells": [
    {
      "cell_type": "markdown",
      "metadata": {
        "id": "view-in-github",
        "colab_type": "text"
      },
      "source": [
        "<a href=\"https://colab.research.google.com/github/alif-rakasha/PembelajaranMesin-C/blob/main/Tugas_Praktikum_Pembelajaran_Mesin.ipynb\" target=\"_parent\"><img src=\"https://colab.research.google.com/assets/colab-badge.svg\" alt=\"Open In Colab\"/></a>"
      ]
    },
    {
      "cell_type": "markdown",
      "source": [
        "Alif Rakasha Pratama Putra<br>\n",
        "1197050012<br>\n",
        "Praktikum Pembelajaran Mesin - C"
      ],
      "metadata": {
        "id": "nqaYrpPWV5j1"
      }
    },
    {
      "cell_type": "code",
      "source": [
        "! kaggle datasets list -s['covid19']"
      ],
      "metadata": {
        "colab": {
          "base_uri": "https://localhost:8080/"
        },
        "id": "0EtXV_qlj-uW",
        "outputId": "adf61260-6192-4dd9-a0ad-de80aa41609c"
      },
      "execution_count": null,
      "outputs": [
        {
          "output_type": "stream",
          "name": "stdout",
          "text": [
            "ref                                                title                                        size  lastUpdated          downloadCount  voteCount  usabilityRating  \n",
            "-------------------------------------------------  ------------------------------------------  -----  -------------------  -------------  ---------  ---------------  \n",
            "gpreda/covid19-tweets                              COVID19 Tweets                               28MB  2020-08-30 09:38:38          14514        485  1.0              \n",
            "smid80/coronavirus-covid19-tweets                  Coronavirus (covid19) Tweets                  2KB  2020-05-12 04:24:57           6451        162  1.0              \n",
            "gpreda/coronavirus-2019ncov                        COVID19 Daily Updates                        20MB  2021-02-13 07:55:53           8662         88  1.0              \n",
            "rohanrao/covid19-forecasting-metadata              Covid19 Forecasting Metadata                118KB  2020-05-11 21:42:06            970         32  1.0              \n",
            "sefatosun/covid19turkey                            Covid19-Turkey                                6KB  2020-08-04 18:27:23            911         21  0.8235294        \n",
            "lin0li/covid19testing                              COVID19 Worldwide Testing Data              514KB  2020-11-08 16:20:51           1908         39  1.0              \n",
            "themlphdstudent/novel-covid19-dataset              Novel COVID19 Dataset                         3MB  2022-03-11 03:39:14            976         28  0.9705882        \n",
            "smid80/coronavirus-covid19-tweets-late-april       Coronavirus (covid19) Tweets - late April   946MB  2020-05-02 12:29:00           2657         42  1.0              \n",
            "fireballbyedimyrnmom/us-counties-covid-19-dataset  US counties COVID 19 dataset                 25MB  2022-03-05 22:21:58          18001        415  0.9411765        \n",
            "smid80/coronavirus-covid19-tweets-early-april      Coronavirus (covid19) Tweets - early April    1GB  2020-04-30 14:30:50           3886         35  1.0              \n",
            "shivamb/daily-covid19-hospitalisation-data         Daily Covid19 Hospitalisation Data          744KB  2022-03-11 05:31:06            490         37  0.9411765        \n",
            "aestheteaman01/china-covid19-data                  China COVID19 Data                            1MB  2020-04-05 18:54:17           1093         41  0.7058824        \n",
            "skylord/covid19-tests-conducted-by-country         Covid19 Tests Conducted by Country          146KB  2020-07-13 07:38:25           1138         39  0.9117647        \n",
            "mpwolke/cusersmarildownloadsexposurecsv            Covid19 Economic Exposure                    66KB  2020-09-21 16:33:39            506         37  1.0              \n",
            "anandhuh/covid19-latest-data-kerala                Latest Covid19 Data - Kerala, India           7KB  2022-02-28 09:53:15            674         80  1.0              \n",
            "mahirahmzh/covid19-malaysia-by-region              COVID19 in Malaysia                           7KB  2020-08-18 06:39:12           1132         17  1.0              \n",
            "hraouak/covid19-in-france                          Covid19 in France                            16KB  2021-12-30 17:50:31            447         17  1.0              \n",
            "okwirjulius/covid19-cases-in-africa                COVID19 cases by Continent                   17MB  2021-01-01 06:58:04           1309         22  1.0              \n",
            "anandhuh/covid19-in-world-countrieslatest-data     Covid19 in World Countries-Latest Data        8KB  2022-03-04 07:16:54           1579         80  1.0              \n",
            "jaimevalero/covid19-madrid                         Covid19 Madrid                               13KB  2022-03-11 21:58:28            240         14  0.8235294        \n"
          ]
        }
      ]
    },
    {
      "cell_type": "code",
      "source": [
        "!kaggle datasets download -d mahirahmzh/covid19-malaysia-by-region "
      ],
      "metadata": {
        "colab": {
          "base_uri": "https://localhost:8080/"
        },
        "id": "5yubs4KXlPVr",
        "outputId": "d81f4880-16e3-4ba3-b265-2d3d8eddb493"
      },
      "execution_count": null,
      "outputs": [
        {
          "output_type": "stream",
          "name": "stdout",
          "text": [
            "Downloading covid19-malaysia-by-region.zip to /content\n",
            "\r  0% 0.00/7.17k [00:00<?, ?B/s]\n",
            "\r100% 7.17k/7.17k [00:00<00:00, 5.86MB/s]\n"
          ]
        }
      ]
    },
    {
      "cell_type": "code",
      "execution_count": null,
      "metadata": {
        "colab": {
          "base_uri": "https://localhost:8080/",
          "height": 206
        },
        "id": "kS19BKRQknsu",
        "outputId": "e519c06c-1e3d-47dd-fa55-572c7fe685ca"
      },
      "outputs": [
        {
          "output_type": "execute_result",
          "data": {
            "text/plain": [
              "   Date    JH    KD   KE   ML   NS   PH   PG   PK   PR   SB   SR    SE   TR  \\\n",
              "0  25/1     1   NaN  NaN  NaN  NaN  NaN  NaN  NaN  NaN  NaN  NaN     3  NaN   \n",
              "1  28/1  2(1)     1  NaN  NaN  NaN  NaN  NaN  NaN  NaN  NaN  NaN  4(1)  NaN   \n",
              "2  30/1  3(1)     1  NaN  NaN  NaN  NaN  NaN  NaN  NaN  NaN  NaN     4  NaN   \n",
              "3   3/2     3     1  NaN  NaN  NaN  NaN  NaN  NaN  NaN  NaN  NaN  5(1)  NaN   \n",
              "4   5/2     3  2(1)  NaN  NaN    2  NaN  NaN  NaN  NaN  NaN  NaN     5  NaN   \n",
              "\n",
              "     KL   PT   LB  \n",
              "0   NaN  NaN  NaN  \n",
              "1   NaN  NaN  NaN  \n",
              "2   NaN  NaN  NaN  \n",
              "3     1  NaN  NaN  \n",
              "4  2(1)  NaN  NaN  "
            ],
            "text/html": [
              "\n",
              "  <div id=\"df-dc47b80b-c2b0-4c4e-ab09-e878f8b0e6bf\">\n",
              "    <div class=\"colab-df-container\">\n",
              "      <div>\n",
              "<style scoped>\n",
              "    .dataframe tbody tr th:only-of-type {\n",
              "        vertical-align: middle;\n",
              "    }\n",
              "\n",
              "    .dataframe tbody tr th {\n",
              "        vertical-align: top;\n",
              "    }\n",
              "\n",
              "    .dataframe thead th {\n",
              "        text-align: right;\n",
              "    }\n",
              "</style>\n",
              "<table border=\"1\" class=\"dataframe\">\n",
              "  <thead>\n",
              "    <tr style=\"text-align: right;\">\n",
              "      <th></th>\n",
              "      <th>Date</th>\n",
              "      <th>JH</th>\n",
              "      <th>KD</th>\n",
              "      <th>KE</th>\n",
              "      <th>ML</th>\n",
              "      <th>NS</th>\n",
              "      <th>PH</th>\n",
              "      <th>PG</th>\n",
              "      <th>PK</th>\n",
              "      <th>PR</th>\n",
              "      <th>SB</th>\n",
              "      <th>SR</th>\n",
              "      <th>SE</th>\n",
              "      <th>TR</th>\n",
              "      <th>KL</th>\n",
              "      <th>PT</th>\n",
              "      <th>LB</th>\n",
              "    </tr>\n",
              "  </thead>\n",
              "  <tbody>\n",
              "    <tr>\n",
              "      <th>0</th>\n",
              "      <td>25/1</td>\n",
              "      <td>1</td>\n",
              "      <td>NaN</td>\n",
              "      <td>NaN</td>\n",
              "      <td>NaN</td>\n",
              "      <td>NaN</td>\n",
              "      <td>NaN</td>\n",
              "      <td>NaN</td>\n",
              "      <td>NaN</td>\n",
              "      <td>NaN</td>\n",
              "      <td>NaN</td>\n",
              "      <td>NaN</td>\n",
              "      <td>3</td>\n",
              "      <td>NaN</td>\n",
              "      <td>NaN</td>\n",
              "      <td>NaN</td>\n",
              "      <td>NaN</td>\n",
              "    </tr>\n",
              "    <tr>\n",
              "      <th>1</th>\n",
              "      <td>28/1</td>\n",
              "      <td>2(1)</td>\n",
              "      <td>1</td>\n",
              "      <td>NaN</td>\n",
              "      <td>NaN</td>\n",
              "      <td>NaN</td>\n",
              "      <td>NaN</td>\n",
              "      <td>NaN</td>\n",
              "      <td>NaN</td>\n",
              "      <td>NaN</td>\n",
              "      <td>NaN</td>\n",
              "      <td>NaN</td>\n",
              "      <td>4(1)</td>\n",
              "      <td>NaN</td>\n",
              "      <td>NaN</td>\n",
              "      <td>NaN</td>\n",
              "      <td>NaN</td>\n",
              "    </tr>\n",
              "    <tr>\n",
              "      <th>2</th>\n",
              "      <td>30/1</td>\n",
              "      <td>3(1)</td>\n",
              "      <td>1</td>\n",
              "      <td>NaN</td>\n",
              "      <td>NaN</td>\n",
              "      <td>NaN</td>\n",
              "      <td>NaN</td>\n",
              "      <td>NaN</td>\n",
              "      <td>NaN</td>\n",
              "      <td>NaN</td>\n",
              "      <td>NaN</td>\n",
              "      <td>NaN</td>\n",
              "      <td>4</td>\n",
              "      <td>NaN</td>\n",
              "      <td>NaN</td>\n",
              "      <td>NaN</td>\n",
              "      <td>NaN</td>\n",
              "    </tr>\n",
              "    <tr>\n",
              "      <th>3</th>\n",
              "      <td>3/2</td>\n",
              "      <td>3</td>\n",
              "      <td>1</td>\n",
              "      <td>NaN</td>\n",
              "      <td>NaN</td>\n",
              "      <td>NaN</td>\n",
              "      <td>NaN</td>\n",
              "      <td>NaN</td>\n",
              "      <td>NaN</td>\n",
              "      <td>NaN</td>\n",
              "      <td>NaN</td>\n",
              "      <td>NaN</td>\n",
              "      <td>5(1)</td>\n",
              "      <td>NaN</td>\n",
              "      <td>1</td>\n",
              "      <td>NaN</td>\n",
              "      <td>NaN</td>\n",
              "    </tr>\n",
              "    <tr>\n",
              "      <th>4</th>\n",
              "      <td>5/2</td>\n",
              "      <td>3</td>\n",
              "      <td>2(1)</td>\n",
              "      <td>NaN</td>\n",
              "      <td>NaN</td>\n",
              "      <td>2</td>\n",
              "      <td>NaN</td>\n",
              "      <td>NaN</td>\n",
              "      <td>NaN</td>\n",
              "      <td>NaN</td>\n",
              "      <td>NaN</td>\n",
              "      <td>NaN</td>\n",
              "      <td>5</td>\n",
              "      <td>NaN</td>\n",
              "      <td>2(1)</td>\n",
              "      <td>NaN</td>\n",
              "      <td>NaN</td>\n",
              "    </tr>\n",
              "  </tbody>\n",
              "</table>\n",
              "</div>\n",
              "      <button class=\"colab-df-convert\" onclick=\"convertToInteractive('df-dc47b80b-c2b0-4c4e-ab09-e878f8b0e6bf')\"\n",
              "              title=\"Convert this dataframe to an interactive table.\"\n",
              "              style=\"display:none;\">\n",
              "        \n",
              "  <svg xmlns=\"http://www.w3.org/2000/svg\" height=\"24px\"viewBox=\"0 0 24 24\"\n",
              "       width=\"24px\">\n",
              "    <path d=\"M0 0h24v24H0V0z\" fill=\"none\"/>\n",
              "    <path d=\"M18.56 5.44l.94 2.06.94-2.06 2.06-.94-2.06-.94-.94-2.06-.94 2.06-2.06.94zm-11 1L8.5 8.5l.94-2.06 2.06-.94-2.06-.94L8.5 2.5l-.94 2.06-2.06.94zm10 10l.94 2.06.94-2.06 2.06-.94-2.06-.94-.94-2.06-.94 2.06-2.06.94z\"/><path d=\"M17.41 7.96l-1.37-1.37c-.4-.4-.92-.59-1.43-.59-.52 0-1.04.2-1.43.59L10.3 9.45l-7.72 7.72c-.78.78-.78 2.05 0 2.83L4 21.41c.39.39.9.59 1.41.59.51 0 1.02-.2 1.41-.59l7.78-7.78 2.81-2.81c.8-.78.8-2.07 0-2.86zM5.41 20L4 18.59l7.72-7.72 1.47 1.35L5.41 20z\"/>\n",
              "  </svg>\n",
              "      </button>\n",
              "      \n",
              "  <style>\n",
              "    .colab-df-container {\n",
              "      display:flex;\n",
              "      flex-wrap:wrap;\n",
              "      gap: 12px;\n",
              "    }\n",
              "\n",
              "    .colab-df-convert {\n",
              "      background-color: #E8F0FE;\n",
              "      border: none;\n",
              "      border-radius: 50%;\n",
              "      cursor: pointer;\n",
              "      display: none;\n",
              "      fill: #1967D2;\n",
              "      height: 32px;\n",
              "      padding: 0 0 0 0;\n",
              "      width: 32px;\n",
              "    }\n",
              "\n",
              "    .colab-df-convert:hover {\n",
              "      background-color: #E2EBFA;\n",
              "      box-shadow: 0px 1px 2px rgba(60, 64, 67, 0.3), 0px 1px 3px 1px rgba(60, 64, 67, 0.15);\n",
              "      fill: #174EA6;\n",
              "    }\n",
              "\n",
              "    [theme=dark] .colab-df-convert {\n",
              "      background-color: #3B4455;\n",
              "      fill: #D2E3FC;\n",
              "    }\n",
              "\n",
              "    [theme=dark] .colab-df-convert:hover {\n",
              "      background-color: #434B5C;\n",
              "      box-shadow: 0px 1px 3px 1px rgba(0, 0, 0, 0.15);\n",
              "      filter: drop-shadow(0px 1px 2px rgba(0, 0, 0, 0.3));\n",
              "      fill: #FFFFFF;\n",
              "    }\n",
              "  </style>\n",
              "\n",
              "      <script>\n",
              "        const buttonEl =\n",
              "          document.querySelector('#df-dc47b80b-c2b0-4c4e-ab09-e878f8b0e6bf button.colab-df-convert');\n",
              "        buttonEl.style.display =\n",
              "          google.colab.kernel.accessAllowed ? 'block' : 'none';\n",
              "\n",
              "        async function convertToInteractive(key) {\n",
              "          const element = document.querySelector('#df-dc47b80b-c2b0-4c4e-ab09-e878f8b0e6bf');\n",
              "          const dataTable =\n",
              "            await google.colab.kernel.invokeFunction('convertToInteractive',\n",
              "                                                     [key], {});\n",
              "          if (!dataTable) return;\n",
              "\n",
              "          const docLinkHtml = 'Like what you see? Visit the ' +\n",
              "            '<a target=\"_blank\" href=https://colab.research.google.com/notebooks/data_table.ipynb>data table notebook</a>'\n",
              "            + ' to learn more about interactive tables.';\n",
              "          element.innerHTML = '';\n",
              "          dataTable['output_type'] = 'display_data';\n",
              "          await google.colab.output.renderOutput(dataTable, element);\n",
              "          const docLink = document.createElement('div');\n",
              "          docLink.innerHTML = docLinkHtml;\n",
              "          element.appendChild(docLink);\n",
              "        }\n",
              "      </script>\n",
              "    </div>\n",
              "  </div>\n",
              "  "
            ]
          },
          "metadata": {},
          "execution_count": 55
        }
      ],
      "source": [
        "import pandas as pd\n",
        "\n",
        "path = 'Cases_ByState.csv'\n",
        "df = pd.read_csv(path)\n",
        "\n",
        "df.head()"
      ]
    },
    {
      "cell_type": "code",
      "source": [
        "print(df.dtypes)"
      ],
      "metadata": {
        "colab": {
          "base_uri": "https://localhost:8080/"
        },
        "id": "4htWeQkFTAos",
        "outputId": "f409edd5-0a71-4de6-d025-a2f6aa00aea9"
      },
      "execution_count": null,
      "outputs": [
        {
          "output_type": "stream",
          "name": "stdout",
          "text": [
            "Date    object\n",
            "JH      object\n",
            "KD      object\n",
            "KE      object\n",
            "ML      object\n",
            "NS      object\n",
            "PH      object\n",
            "PG      object\n",
            "PK      object\n",
            "PR      object\n",
            "SB      object\n",
            "SR      object\n",
            "SE      object\n",
            "TR      object\n",
            "KL      object\n",
            "PT      object\n",
            "LB      object\n",
            "dtype: object\n"
          ]
        }
      ]
    },
    {
      "cell_type": "code",
      "source": [
        "df.info()"
      ],
      "metadata": {
        "colab": {
          "base_uri": "https://localhost:8080/"
        },
        "id": "k0WGq9HNTFFJ",
        "outputId": "05c738a0-9e25-4cf0-8dfd-08548026fcef"
      },
      "execution_count": null,
      "outputs": [
        {
          "output_type": "stream",
          "name": "stdout",
          "text": [
            "<class 'pandas.core.frame.DataFrame'>\n",
            "RangeIndex: 164 entries, 0 to 163\n",
            "Data columns (total 17 columns):\n",
            " #   Column  Non-Null Count  Dtype \n",
            "---  ------  --------------  ----- \n",
            " 0   Date    164 non-null    object\n",
            " 1   JH      164 non-null    object\n",
            " 2   KD      163 non-null    object\n",
            " 3   KE      148 non-null    object\n",
            " 4   ML      148 non-null    object\n",
            " 5   NS      160 non-null    object\n",
            " 6   PH      148 non-null    object\n",
            " 7   PG      148 non-null    object\n",
            " 8   PK      148 non-null    object\n",
            " 9   PR      148 non-null    object\n",
            " 10  SB      148 non-null    object\n",
            " 11  SR      147 non-null    object\n",
            " 12  SE      164 non-null    object\n",
            " 13  TR      146 non-null    object\n",
            " 14  KL      161 non-null    object\n",
            " 15  PT      145 non-null    object\n",
            " 16  LB      148 non-null    object\n",
            "dtypes: object(17)\n",
            "memory usage: 21.9+ KB\n"
          ]
        }
      ]
    },
    {
      "cell_type": "code",
      "source": [
        "df.describe()"
      ],
      "metadata": {
        "colab": {
          "base_uri": "https://localhost:8080/",
          "height": 174
        },
        "id": "qItTzGjoTIhH",
        "outputId": "eb216345-8a32-44d5-ba6c-fa1e35a4822b"
      },
      "execution_count": null,
      "outputs": [
        {
          "output_type": "execute_result",
          "data": {
            "text/plain": [
              "        Date   JH   KD   KE   ML     NS   PH   PG   PK   PR   SB   SR     SE  \\\n",
              "count    164  164  163  148  148    160  148  148  148  148  148  147    164   \n",
              "unique   164  113   59   43   82    109   80   36   55   23  122  113    158   \n",
              "top     25/1  667   96  156  258  1,027  365  121  258   18  378  552  2,130   \n",
              "freq       1   11   36   35   26     14   39  102   30  105    5    8      4   \n",
              "\n",
              "         TR     KL   PT   LB  \n",
              "count   146    161  145  148  \n",
              "unique   39    147   58   27  \n",
              "top     111  2,430   97   16  \n",
              "freq     56      5   42   49  "
            ],
            "text/html": [
              "\n",
              "  <div id=\"df-96559e8a-86ba-4098-bcc0-fd81c6e1da30\">\n",
              "    <div class=\"colab-df-container\">\n",
              "      <div>\n",
              "<style scoped>\n",
              "    .dataframe tbody tr th:only-of-type {\n",
              "        vertical-align: middle;\n",
              "    }\n",
              "\n",
              "    .dataframe tbody tr th {\n",
              "        vertical-align: top;\n",
              "    }\n",
              "\n",
              "    .dataframe thead th {\n",
              "        text-align: right;\n",
              "    }\n",
              "</style>\n",
              "<table border=\"1\" class=\"dataframe\">\n",
              "  <thead>\n",
              "    <tr style=\"text-align: right;\">\n",
              "      <th></th>\n",
              "      <th>Date</th>\n",
              "      <th>JH</th>\n",
              "      <th>KD</th>\n",
              "      <th>KE</th>\n",
              "      <th>ML</th>\n",
              "      <th>NS</th>\n",
              "      <th>PH</th>\n",
              "      <th>PG</th>\n",
              "      <th>PK</th>\n",
              "      <th>PR</th>\n",
              "      <th>SB</th>\n",
              "      <th>SR</th>\n",
              "      <th>SE</th>\n",
              "      <th>TR</th>\n",
              "      <th>KL</th>\n",
              "      <th>PT</th>\n",
              "      <th>LB</th>\n",
              "    </tr>\n",
              "  </thead>\n",
              "  <tbody>\n",
              "    <tr>\n",
              "      <th>count</th>\n",
              "      <td>164</td>\n",
              "      <td>164</td>\n",
              "      <td>163</td>\n",
              "      <td>148</td>\n",
              "      <td>148</td>\n",
              "      <td>160</td>\n",
              "      <td>148</td>\n",
              "      <td>148</td>\n",
              "      <td>148</td>\n",
              "      <td>148</td>\n",
              "      <td>148</td>\n",
              "      <td>147</td>\n",
              "      <td>164</td>\n",
              "      <td>146</td>\n",
              "      <td>161</td>\n",
              "      <td>145</td>\n",
              "      <td>148</td>\n",
              "    </tr>\n",
              "    <tr>\n",
              "      <th>unique</th>\n",
              "      <td>164</td>\n",
              "      <td>113</td>\n",
              "      <td>59</td>\n",
              "      <td>43</td>\n",
              "      <td>82</td>\n",
              "      <td>109</td>\n",
              "      <td>80</td>\n",
              "      <td>36</td>\n",
              "      <td>55</td>\n",
              "      <td>23</td>\n",
              "      <td>122</td>\n",
              "      <td>113</td>\n",
              "      <td>158</td>\n",
              "      <td>39</td>\n",
              "      <td>147</td>\n",
              "      <td>58</td>\n",
              "      <td>27</td>\n",
              "    </tr>\n",
              "    <tr>\n",
              "      <th>top</th>\n",
              "      <td>25/1</td>\n",
              "      <td>667</td>\n",
              "      <td>96</td>\n",
              "      <td>156</td>\n",
              "      <td>258</td>\n",
              "      <td>1,027</td>\n",
              "      <td>365</td>\n",
              "      <td>121</td>\n",
              "      <td>258</td>\n",
              "      <td>18</td>\n",
              "      <td>378</td>\n",
              "      <td>552</td>\n",
              "      <td>2,130</td>\n",
              "      <td>111</td>\n",
              "      <td>2,430</td>\n",
              "      <td>97</td>\n",
              "      <td>16</td>\n",
              "    </tr>\n",
              "    <tr>\n",
              "      <th>freq</th>\n",
              "      <td>1</td>\n",
              "      <td>11</td>\n",
              "      <td>36</td>\n",
              "      <td>35</td>\n",
              "      <td>26</td>\n",
              "      <td>14</td>\n",
              "      <td>39</td>\n",
              "      <td>102</td>\n",
              "      <td>30</td>\n",
              "      <td>105</td>\n",
              "      <td>5</td>\n",
              "      <td>8</td>\n",
              "      <td>4</td>\n",
              "      <td>56</td>\n",
              "      <td>5</td>\n",
              "      <td>42</td>\n",
              "      <td>49</td>\n",
              "    </tr>\n",
              "  </tbody>\n",
              "</table>\n",
              "</div>\n",
              "      <button class=\"colab-df-convert\" onclick=\"convertToInteractive('df-96559e8a-86ba-4098-bcc0-fd81c6e1da30')\"\n",
              "              title=\"Convert this dataframe to an interactive table.\"\n",
              "              style=\"display:none;\">\n",
              "        \n",
              "  <svg xmlns=\"http://www.w3.org/2000/svg\" height=\"24px\"viewBox=\"0 0 24 24\"\n",
              "       width=\"24px\">\n",
              "    <path d=\"M0 0h24v24H0V0z\" fill=\"none\"/>\n",
              "    <path d=\"M18.56 5.44l.94 2.06.94-2.06 2.06-.94-2.06-.94-.94-2.06-.94 2.06-2.06.94zm-11 1L8.5 8.5l.94-2.06 2.06-.94-2.06-.94L8.5 2.5l-.94 2.06-2.06.94zm10 10l.94 2.06.94-2.06 2.06-.94-2.06-.94-.94-2.06-.94 2.06-2.06.94z\"/><path d=\"M17.41 7.96l-1.37-1.37c-.4-.4-.92-.59-1.43-.59-.52 0-1.04.2-1.43.59L10.3 9.45l-7.72 7.72c-.78.78-.78 2.05 0 2.83L4 21.41c.39.39.9.59 1.41.59.51 0 1.02-.2 1.41-.59l7.78-7.78 2.81-2.81c.8-.78.8-2.07 0-2.86zM5.41 20L4 18.59l7.72-7.72 1.47 1.35L5.41 20z\"/>\n",
              "  </svg>\n",
              "      </button>\n",
              "      \n",
              "  <style>\n",
              "    .colab-df-container {\n",
              "      display:flex;\n",
              "      flex-wrap:wrap;\n",
              "      gap: 12px;\n",
              "    }\n",
              "\n",
              "    .colab-df-convert {\n",
              "      background-color: #E8F0FE;\n",
              "      border: none;\n",
              "      border-radius: 50%;\n",
              "      cursor: pointer;\n",
              "      display: none;\n",
              "      fill: #1967D2;\n",
              "      height: 32px;\n",
              "      padding: 0 0 0 0;\n",
              "      width: 32px;\n",
              "    }\n",
              "\n",
              "    .colab-df-convert:hover {\n",
              "      background-color: #E2EBFA;\n",
              "      box-shadow: 0px 1px 2px rgba(60, 64, 67, 0.3), 0px 1px 3px 1px rgba(60, 64, 67, 0.15);\n",
              "      fill: #174EA6;\n",
              "    }\n",
              "\n",
              "    [theme=dark] .colab-df-convert {\n",
              "      background-color: #3B4455;\n",
              "      fill: #D2E3FC;\n",
              "    }\n",
              "\n",
              "    [theme=dark] .colab-df-convert:hover {\n",
              "      background-color: #434B5C;\n",
              "      box-shadow: 0px 1px 3px 1px rgba(0, 0, 0, 0.15);\n",
              "      filter: drop-shadow(0px 1px 2px rgba(0, 0, 0, 0.3));\n",
              "      fill: #FFFFFF;\n",
              "    }\n",
              "  </style>\n",
              "\n",
              "      <script>\n",
              "        const buttonEl =\n",
              "          document.querySelector('#df-96559e8a-86ba-4098-bcc0-fd81c6e1da30 button.colab-df-convert');\n",
              "        buttonEl.style.display =\n",
              "          google.colab.kernel.accessAllowed ? 'block' : 'none';\n",
              "\n",
              "        async function convertToInteractive(key) {\n",
              "          const element = document.querySelector('#df-96559e8a-86ba-4098-bcc0-fd81c6e1da30');\n",
              "          const dataTable =\n",
              "            await google.colab.kernel.invokeFunction('convertToInteractive',\n",
              "                                                     [key], {});\n",
              "          if (!dataTable) return;\n",
              "\n",
              "          const docLinkHtml = 'Like what you see? Visit the ' +\n",
              "            '<a target=\"_blank\" href=https://colab.research.google.com/notebooks/data_table.ipynb>data table notebook</a>'\n",
              "            + ' to learn more about interactive tables.';\n",
              "          element.innerHTML = '';\n",
              "          dataTable['output_type'] = 'display_data';\n",
              "          await google.colab.output.renderOutput(dataTable, element);\n",
              "          const docLink = document.createElement('div');\n",
              "          docLink.innerHTML = docLinkHtml;\n",
              "          element.appendChild(docLink);\n",
              "        }\n",
              "      </script>\n",
              "    </div>\n",
              "  </div>\n",
              "  "
            ]
          },
          "metadata": {},
          "execution_count": 58
        }
      ]
    },
    {
      "cell_type": "code",
      "source": [
        "df.count()"
      ],
      "metadata": {
        "colab": {
          "base_uri": "https://localhost:8080/"
        },
        "id": "ByH0vvwATNc9",
        "outputId": "b0ce34d1-ccde-4ab8-d1dc-f407f17c8c8c"
      },
      "execution_count": null,
      "outputs": [
        {
          "output_type": "execute_result",
          "data": {
            "text/plain": [
              "Date    164\n",
              "JH      164\n",
              "KD      163\n",
              "KE      148\n",
              "ML      148\n",
              "NS      160\n",
              "PH      148\n",
              "PG      148\n",
              "PK      148\n",
              "PR      148\n",
              "SB      148\n",
              "SR      147\n",
              "SE      164\n",
              "TR      146\n",
              "KL      161\n",
              "PT      145\n",
              "LB      148\n",
              "dtype: int64"
            ]
          },
          "metadata": {},
          "execution_count": 59
        }
      ]
    },
    {
      "cell_type": "code",
      "source": [
        "df.describe(include='all')"
      ],
      "metadata": {
        "colab": {
          "base_uri": "https://localhost:8080/",
          "height": 174
        },
        "id": "Lk64uT3kTNqi",
        "outputId": "40551a6f-3645-46b7-b474-2384769e82d7"
      },
      "execution_count": null,
      "outputs": [
        {
          "output_type": "execute_result",
          "data": {
            "text/plain": [
              "        Date   JH   KD   KE   ML     NS   PH   PG   PK   PR   SB   SR     SE  \\\n",
              "count    164  164  163  148  148    160  148  148  148  148  148  147    164   \n",
              "unique   164  113   59   43   82    109   80   36   55   23  122  113    158   \n",
              "top     25/1  667   96  156  258  1,027  365  121  258   18  378  552  2,130   \n",
              "freq       1   11   36   35   26     14   39  102   30  105    5    8      4   \n",
              "\n",
              "         TR     KL   PT   LB  \n",
              "count   146    161  145  148  \n",
              "unique   39    147   58   27  \n",
              "top     111  2,430   97   16  \n",
              "freq     56      5   42   49  "
            ],
            "text/html": [
              "\n",
              "  <div id=\"df-cfba0f84-3056-4ceb-821f-3acca1b0609e\">\n",
              "    <div class=\"colab-df-container\">\n",
              "      <div>\n",
              "<style scoped>\n",
              "    .dataframe tbody tr th:only-of-type {\n",
              "        vertical-align: middle;\n",
              "    }\n",
              "\n",
              "    .dataframe tbody tr th {\n",
              "        vertical-align: top;\n",
              "    }\n",
              "\n",
              "    .dataframe thead th {\n",
              "        text-align: right;\n",
              "    }\n",
              "</style>\n",
              "<table border=\"1\" class=\"dataframe\">\n",
              "  <thead>\n",
              "    <tr style=\"text-align: right;\">\n",
              "      <th></th>\n",
              "      <th>Date</th>\n",
              "      <th>JH</th>\n",
              "      <th>KD</th>\n",
              "      <th>KE</th>\n",
              "      <th>ML</th>\n",
              "      <th>NS</th>\n",
              "      <th>PH</th>\n",
              "      <th>PG</th>\n",
              "      <th>PK</th>\n",
              "      <th>PR</th>\n",
              "      <th>SB</th>\n",
              "      <th>SR</th>\n",
              "      <th>SE</th>\n",
              "      <th>TR</th>\n",
              "      <th>KL</th>\n",
              "      <th>PT</th>\n",
              "      <th>LB</th>\n",
              "    </tr>\n",
              "  </thead>\n",
              "  <tbody>\n",
              "    <tr>\n",
              "      <th>count</th>\n",
              "      <td>164</td>\n",
              "      <td>164</td>\n",
              "      <td>163</td>\n",
              "      <td>148</td>\n",
              "      <td>148</td>\n",
              "      <td>160</td>\n",
              "      <td>148</td>\n",
              "      <td>148</td>\n",
              "      <td>148</td>\n",
              "      <td>148</td>\n",
              "      <td>148</td>\n",
              "      <td>147</td>\n",
              "      <td>164</td>\n",
              "      <td>146</td>\n",
              "      <td>161</td>\n",
              "      <td>145</td>\n",
              "      <td>148</td>\n",
              "    </tr>\n",
              "    <tr>\n",
              "      <th>unique</th>\n",
              "      <td>164</td>\n",
              "      <td>113</td>\n",
              "      <td>59</td>\n",
              "      <td>43</td>\n",
              "      <td>82</td>\n",
              "      <td>109</td>\n",
              "      <td>80</td>\n",
              "      <td>36</td>\n",
              "      <td>55</td>\n",
              "      <td>23</td>\n",
              "      <td>122</td>\n",
              "      <td>113</td>\n",
              "      <td>158</td>\n",
              "      <td>39</td>\n",
              "      <td>147</td>\n",
              "      <td>58</td>\n",
              "      <td>27</td>\n",
              "    </tr>\n",
              "    <tr>\n",
              "      <th>top</th>\n",
              "      <td>25/1</td>\n",
              "      <td>667</td>\n",
              "      <td>96</td>\n",
              "      <td>156</td>\n",
              "      <td>258</td>\n",
              "      <td>1,027</td>\n",
              "      <td>365</td>\n",
              "      <td>121</td>\n",
              "      <td>258</td>\n",
              "      <td>18</td>\n",
              "      <td>378</td>\n",
              "      <td>552</td>\n",
              "      <td>2,130</td>\n",
              "      <td>111</td>\n",
              "      <td>2,430</td>\n",
              "      <td>97</td>\n",
              "      <td>16</td>\n",
              "    </tr>\n",
              "    <tr>\n",
              "      <th>freq</th>\n",
              "      <td>1</td>\n",
              "      <td>11</td>\n",
              "      <td>36</td>\n",
              "      <td>35</td>\n",
              "      <td>26</td>\n",
              "      <td>14</td>\n",
              "      <td>39</td>\n",
              "      <td>102</td>\n",
              "      <td>30</td>\n",
              "      <td>105</td>\n",
              "      <td>5</td>\n",
              "      <td>8</td>\n",
              "      <td>4</td>\n",
              "      <td>56</td>\n",
              "      <td>5</td>\n",
              "      <td>42</td>\n",
              "      <td>49</td>\n",
              "    </tr>\n",
              "  </tbody>\n",
              "</table>\n",
              "</div>\n",
              "      <button class=\"colab-df-convert\" onclick=\"convertToInteractive('df-cfba0f84-3056-4ceb-821f-3acca1b0609e')\"\n",
              "              title=\"Convert this dataframe to an interactive table.\"\n",
              "              style=\"display:none;\">\n",
              "        \n",
              "  <svg xmlns=\"http://www.w3.org/2000/svg\" height=\"24px\"viewBox=\"0 0 24 24\"\n",
              "       width=\"24px\">\n",
              "    <path d=\"M0 0h24v24H0V0z\" fill=\"none\"/>\n",
              "    <path d=\"M18.56 5.44l.94 2.06.94-2.06 2.06-.94-2.06-.94-.94-2.06-.94 2.06-2.06.94zm-11 1L8.5 8.5l.94-2.06 2.06-.94-2.06-.94L8.5 2.5l-.94 2.06-2.06.94zm10 10l.94 2.06.94-2.06 2.06-.94-2.06-.94-.94-2.06-.94 2.06-2.06.94z\"/><path d=\"M17.41 7.96l-1.37-1.37c-.4-.4-.92-.59-1.43-.59-.52 0-1.04.2-1.43.59L10.3 9.45l-7.72 7.72c-.78.78-.78 2.05 0 2.83L4 21.41c.39.39.9.59 1.41.59.51 0 1.02-.2 1.41-.59l7.78-7.78 2.81-2.81c.8-.78.8-2.07 0-2.86zM5.41 20L4 18.59l7.72-7.72 1.47 1.35L5.41 20z\"/>\n",
              "  </svg>\n",
              "      </button>\n",
              "      \n",
              "  <style>\n",
              "    .colab-df-container {\n",
              "      display:flex;\n",
              "      flex-wrap:wrap;\n",
              "      gap: 12px;\n",
              "    }\n",
              "\n",
              "    .colab-df-convert {\n",
              "      background-color: #E8F0FE;\n",
              "      border: none;\n",
              "      border-radius: 50%;\n",
              "      cursor: pointer;\n",
              "      display: none;\n",
              "      fill: #1967D2;\n",
              "      height: 32px;\n",
              "      padding: 0 0 0 0;\n",
              "      width: 32px;\n",
              "    }\n",
              "\n",
              "    .colab-df-convert:hover {\n",
              "      background-color: #E2EBFA;\n",
              "      box-shadow: 0px 1px 2px rgba(60, 64, 67, 0.3), 0px 1px 3px 1px rgba(60, 64, 67, 0.15);\n",
              "      fill: #174EA6;\n",
              "    }\n",
              "\n",
              "    [theme=dark] .colab-df-convert {\n",
              "      background-color: #3B4455;\n",
              "      fill: #D2E3FC;\n",
              "    }\n",
              "\n",
              "    [theme=dark] .colab-df-convert:hover {\n",
              "      background-color: #434B5C;\n",
              "      box-shadow: 0px 1px 3px 1px rgba(0, 0, 0, 0.15);\n",
              "      filter: drop-shadow(0px 1px 2px rgba(0, 0, 0, 0.3));\n",
              "      fill: #FFFFFF;\n",
              "    }\n",
              "  </style>\n",
              "\n",
              "      <script>\n",
              "        const buttonEl =\n",
              "          document.querySelector('#df-cfba0f84-3056-4ceb-821f-3acca1b0609e button.colab-df-convert');\n",
              "        buttonEl.style.display =\n",
              "          google.colab.kernel.accessAllowed ? 'block' : 'none';\n",
              "\n",
              "        async function convertToInteractive(key) {\n",
              "          const element = document.querySelector('#df-cfba0f84-3056-4ceb-821f-3acca1b0609e');\n",
              "          const dataTable =\n",
              "            await google.colab.kernel.invokeFunction('convertToInteractive',\n",
              "                                                     [key], {});\n",
              "          if (!dataTable) return;\n",
              "\n",
              "          const docLinkHtml = 'Like what you see? Visit the ' +\n",
              "            '<a target=\"_blank\" href=https://colab.research.google.com/notebooks/data_table.ipynb>data table notebook</a>'\n",
              "            + ' to learn more about interactive tables.';\n",
              "          element.innerHTML = '';\n",
              "          dataTable['output_type'] = 'display_data';\n",
              "          await google.colab.output.renderOutput(dataTable, element);\n",
              "          const docLink = document.createElement('div');\n",
              "          docLink.innerHTML = docLinkHtml;\n",
              "          element.appendChild(docLink);\n",
              "        }\n",
              "      </script>\n",
              "    </div>\n",
              "  </div>\n",
              "  "
            ]
          },
          "metadata": {},
          "execution_count": 60
        }
      ]
    },
    {
      "cell_type": "code",
      "source": [
        "df.fillna(0)"
      ],
      "metadata": {
        "colab": {
          "base_uri": "https://localhost:8080/",
          "height": 424
        },
        "id": "uexuy9a5TNtR",
        "outputId": "cc7f84b4-be70-4291-bbe3-ba900403e384"
      },
      "execution_count": null,
      "outputs": [
        {
          "output_type": "execute_result",
          "data": {
            "text/plain": [
              "     Date      JH      KD   KE   ML        NS   PH      PG      PK      PR  \\\n",
              "0    25/1       1       0    0    0         0    0       0       0       0   \n",
              "1    28/1    2(1)       1    0    0         0    0       0       0       0   \n",
              "2    30/1    3(1)       1    0    0         0    0       0       0       0   \n",
              "3     3/2       3       1    0    0         0    0       0       0       0   \n",
              "4     5/2       3    2(1)    0    0         2    0       0       0       0   \n",
              "..    ...     ...     ...  ...  ...       ...  ...     ...     ...     ...   \n",
              "159   4/8     742     122  160  258     1,029  370     121     264   20(1)   \n",
              "160   5/8  743(1)  125(3)  160  258     1,029  370     121     264      20   \n",
              "161   6/8     743  131(6)  160  258  1,031(2)  370     121     264      20   \n",
              "162   7/8  744(1)  132(1)  160  258     1,031  370  122(1)  266(2)  30(10)   \n",
              "163   8/8     744     132  160  258  1,032(1)  370     122     266      30   \n",
              "\n",
              "         SB      SR        SE   TR         KL  PT     LB  \n",
              "0         0       0         3    0          0   0      0  \n",
              "1         0       0      4(1)    0          0   0      0  \n",
              "2         0       0         4    0          0   0      0  \n",
              "3         0       0      5(1)    0          1   0      0  \n",
              "4         0       0         5    0       2(1)   0      0  \n",
              "..      ...     ...       ...  ...        ...  ..    ...  \n",
              "159     400     678     2,130  114      2,476  98     20  \n",
              "160  402(2)     678     2,130  114  2,491(15)  98     20  \n",
              "161  406(4)     678     2,130  114   2,493(2)  98  21(1)  \n",
              "162  410(4)  679(1)  2,132(2)  114   2,496(3)  98     21  \n",
              "163     410  680(1)  2,133(1)  114   2,499(3)  98  22(1)  \n",
              "\n",
              "[164 rows x 17 columns]"
            ],
            "text/html": [
              "\n",
              "  <div id=\"df-d0f7fc54-8630-461b-8816-684067187443\">\n",
              "    <div class=\"colab-df-container\">\n",
              "      <div>\n",
              "<style scoped>\n",
              "    .dataframe tbody tr th:only-of-type {\n",
              "        vertical-align: middle;\n",
              "    }\n",
              "\n",
              "    .dataframe tbody tr th {\n",
              "        vertical-align: top;\n",
              "    }\n",
              "\n",
              "    .dataframe thead th {\n",
              "        text-align: right;\n",
              "    }\n",
              "</style>\n",
              "<table border=\"1\" class=\"dataframe\">\n",
              "  <thead>\n",
              "    <tr style=\"text-align: right;\">\n",
              "      <th></th>\n",
              "      <th>Date</th>\n",
              "      <th>JH</th>\n",
              "      <th>KD</th>\n",
              "      <th>KE</th>\n",
              "      <th>ML</th>\n",
              "      <th>NS</th>\n",
              "      <th>PH</th>\n",
              "      <th>PG</th>\n",
              "      <th>PK</th>\n",
              "      <th>PR</th>\n",
              "      <th>SB</th>\n",
              "      <th>SR</th>\n",
              "      <th>SE</th>\n",
              "      <th>TR</th>\n",
              "      <th>KL</th>\n",
              "      <th>PT</th>\n",
              "      <th>LB</th>\n",
              "    </tr>\n",
              "  </thead>\n",
              "  <tbody>\n",
              "    <tr>\n",
              "      <th>0</th>\n",
              "      <td>25/1</td>\n",
              "      <td>1</td>\n",
              "      <td>0</td>\n",
              "      <td>0</td>\n",
              "      <td>0</td>\n",
              "      <td>0</td>\n",
              "      <td>0</td>\n",
              "      <td>0</td>\n",
              "      <td>0</td>\n",
              "      <td>0</td>\n",
              "      <td>0</td>\n",
              "      <td>0</td>\n",
              "      <td>3</td>\n",
              "      <td>0</td>\n",
              "      <td>0</td>\n",
              "      <td>0</td>\n",
              "      <td>0</td>\n",
              "    </tr>\n",
              "    <tr>\n",
              "      <th>1</th>\n",
              "      <td>28/1</td>\n",
              "      <td>2(1)</td>\n",
              "      <td>1</td>\n",
              "      <td>0</td>\n",
              "      <td>0</td>\n",
              "      <td>0</td>\n",
              "      <td>0</td>\n",
              "      <td>0</td>\n",
              "      <td>0</td>\n",
              "      <td>0</td>\n",
              "      <td>0</td>\n",
              "      <td>0</td>\n",
              "      <td>4(1)</td>\n",
              "      <td>0</td>\n",
              "      <td>0</td>\n",
              "      <td>0</td>\n",
              "      <td>0</td>\n",
              "    </tr>\n",
              "    <tr>\n",
              "      <th>2</th>\n",
              "      <td>30/1</td>\n",
              "      <td>3(1)</td>\n",
              "      <td>1</td>\n",
              "      <td>0</td>\n",
              "      <td>0</td>\n",
              "      <td>0</td>\n",
              "      <td>0</td>\n",
              "      <td>0</td>\n",
              "      <td>0</td>\n",
              "      <td>0</td>\n",
              "      <td>0</td>\n",
              "      <td>0</td>\n",
              "      <td>4</td>\n",
              "      <td>0</td>\n",
              "      <td>0</td>\n",
              "      <td>0</td>\n",
              "      <td>0</td>\n",
              "    </tr>\n",
              "    <tr>\n",
              "      <th>3</th>\n",
              "      <td>3/2</td>\n",
              "      <td>3</td>\n",
              "      <td>1</td>\n",
              "      <td>0</td>\n",
              "      <td>0</td>\n",
              "      <td>0</td>\n",
              "      <td>0</td>\n",
              "      <td>0</td>\n",
              "      <td>0</td>\n",
              "      <td>0</td>\n",
              "      <td>0</td>\n",
              "      <td>0</td>\n",
              "      <td>5(1)</td>\n",
              "      <td>0</td>\n",
              "      <td>1</td>\n",
              "      <td>0</td>\n",
              "      <td>0</td>\n",
              "    </tr>\n",
              "    <tr>\n",
              "      <th>4</th>\n",
              "      <td>5/2</td>\n",
              "      <td>3</td>\n",
              "      <td>2(1)</td>\n",
              "      <td>0</td>\n",
              "      <td>0</td>\n",
              "      <td>2</td>\n",
              "      <td>0</td>\n",
              "      <td>0</td>\n",
              "      <td>0</td>\n",
              "      <td>0</td>\n",
              "      <td>0</td>\n",
              "      <td>0</td>\n",
              "      <td>5</td>\n",
              "      <td>0</td>\n",
              "      <td>2(1)</td>\n",
              "      <td>0</td>\n",
              "      <td>0</td>\n",
              "    </tr>\n",
              "    <tr>\n",
              "      <th>...</th>\n",
              "      <td>...</td>\n",
              "      <td>...</td>\n",
              "      <td>...</td>\n",
              "      <td>...</td>\n",
              "      <td>...</td>\n",
              "      <td>...</td>\n",
              "      <td>...</td>\n",
              "      <td>...</td>\n",
              "      <td>...</td>\n",
              "      <td>...</td>\n",
              "      <td>...</td>\n",
              "      <td>...</td>\n",
              "      <td>...</td>\n",
              "      <td>...</td>\n",
              "      <td>...</td>\n",
              "      <td>...</td>\n",
              "      <td>...</td>\n",
              "    </tr>\n",
              "    <tr>\n",
              "      <th>159</th>\n",
              "      <td>4/8</td>\n",
              "      <td>742</td>\n",
              "      <td>122</td>\n",
              "      <td>160</td>\n",
              "      <td>258</td>\n",
              "      <td>1,029</td>\n",
              "      <td>370</td>\n",
              "      <td>121</td>\n",
              "      <td>264</td>\n",
              "      <td>20(1)</td>\n",
              "      <td>400</td>\n",
              "      <td>678</td>\n",
              "      <td>2,130</td>\n",
              "      <td>114</td>\n",
              "      <td>2,476</td>\n",
              "      <td>98</td>\n",
              "      <td>20</td>\n",
              "    </tr>\n",
              "    <tr>\n",
              "      <th>160</th>\n",
              "      <td>5/8</td>\n",
              "      <td>743(1)</td>\n",
              "      <td>125(3)</td>\n",
              "      <td>160</td>\n",
              "      <td>258</td>\n",
              "      <td>1,029</td>\n",
              "      <td>370</td>\n",
              "      <td>121</td>\n",
              "      <td>264</td>\n",
              "      <td>20</td>\n",
              "      <td>402(2)</td>\n",
              "      <td>678</td>\n",
              "      <td>2,130</td>\n",
              "      <td>114</td>\n",
              "      <td>2,491(15)</td>\n",
              "      <td>98</td>\n",
              "      <td>20</td>\n",
              "    </tr>\n",
              "    <tr>\n",
              "      <th>161</th>\n",
              "      <td>6/8</td>\n",
              "      <td>743</td>\n",
              "      <td>131(6)</td>\n",
              "      <td>160</td>\n",
              "      <td>258</td>\n",
              "      <td>1,031(2)</td>\n",
              "      <td>370</td>\n",
              "      <td>121</td>\n",
              "      <td>264</td>\n",
              "      <td>20</td>\n",
              "      <td>406(4)</td>\n",
              "      <td>678</td>\n",
              "      <td>2,130</td>\n",
              "      <td>114</td>\n",
              "      <td>2,493(2)</td>\n",
              "      <td>98</td>\n",
              "      <td>21(1)</td>\n",
              "    </tr>\n",
              "    <tr>\n",
              "      <th>162</th>\n",
              "      <td>7/8</td>\n",
              "      <td>744(1)</td>\n",
              "      <td>132(1)</td>\n",
              "      <td>160</td>\n",
              "      <td>258</td>\n",
              "      <td>1,031</td>\n",
              "      <td>370</td>\n",
              "      <td>122(1)</td>\n",
              "      <td>266(2)</td>\n",
              "      <td>30(10)</td>\n",
              "      <td>410(4)</td>\n",
              "      <td>679(1)</td>\n",
              "      <td>2,132(2)</td>\n",
              "      <td>114</td>\n",
              "      <td>2,496(3)</td>\n",
              "      <td>98</td>\n",
              "      <td>21</td>\n",
              "    </tr>\n",
              "    <tr>\n",
              "      <th>163</th>\n",
              "      <td>8/8</td>\n",
              "      <td>744</td>\n",
              "      <td>132</td>\n",
              "      <td>160</td>\n",
              "      <td>258</td>\n",
              "      <td>1,032(1)</td>\n",
              "      <td>370</td>\n",
              "      <td>122</td>\n",
              "      <td>266</td>\n",
              "      <td>30</td>\n",
              "      <td>410</td>\n",
              "      <td>680(1)</td>\n",
              "      <td>2,133(1)</td>\n",
              "      <td>114</td>\n",
              "      <td>2,499(3)</td>\n",
              "      <td>98</td>\n",
              "      <td>22(1)</td>\n",
              "    </tr>\n",
              "  </tbody>\n",
              "</table>\n",
              "<p>164 rows × 17 columns</p>\n",
              "</div>\n",
              "      <button class=\"colab-df-convert\" onclick=\"convertToInteractive('df-d0f7fc54-8630-461b-8816-684067187443')\"\n",
              "              title=\"Convert this dataframe to an interactive table.\"\n",
              "              style=\"display:none;\">\n",
              "        \n",
              "  <svg xmlns=\"http://www.w3.org/2000/svg\" height=\"24px\"viewBox=\"0 0 24 24\"\n",
              "       width=\"24px\">\n",
              "    <path d=\"M0 0h24v24H0V0z\" fill=\"none\"/>\n",
              "    <path d=\"M18.56 5.44l.94 2.06.94-2.06 2.06-.94-2.06-.94-.94-2.06-.94 2.06-2.06.94zm-11 1L8.5 8.5l.94-2.06 2.06-.94-2.06-.94L8.5 2.5l-.94 2.06-2.06.94zm10 10l.94 2.06.94-2.06 2.06-.94-2.06-.94-.94-2.06-.94 2.06-2.06.94z\"/><path d=\"M17.41 7.96l-1.37-1.37c-.4-.4-.92-.59-1.43-.59-.52 0-1.04.2-1.43.59L10.3 9.45l-7.72 7.72c-.78.78-.78 2.05 0 2.83L4 21.41c.39.39.9.59 1.41.59.51 0 1.02-.2 1.41-.59l7.78-7.78 2.81-2.81c.8-.78.8-2.07 0-2.86zM5.41 20L4 18.59l7.72-7.72 1.47 1.35L5.41 20z\"/>\n",
              "  </svg>\n",
              "      </button>\n",
              "      \n",
              "  <style>\n",
              "    .colab-df-container {\n",
              "      display:flex;\n",
              "      flex-wrap:wrap;\n",
              "      gap: 12px;\n",
              "    }\n",
              "\n",
              "    .colab-df-convert {\n",
              "      background-color: #E8F0FE;\n",
              "      border: none;\n",
              "      border-radius: 50%;\n",
              "      cursor: pointer;\n",
              "      display: none;\n",
              "      fill: #1967D2;\n",
              "      height: 32px;\n",
              "      padding: 0 0 0 0;\n",
              "      width: 32px;\n",
              "    }\n",
              "\n",
              "    .colab-df-convert:hover {\n",
              "      background-color: #E2EBFA;\n",
              "      box-shadow: 0px 1px 2px rgba(60, 64, 67, 0.3), 0px 1px 3px 1px rgba(60, 64, 67, 0.15);\n",
              "      fill: #174EA6;\n",
              "    }\n",
              "\n",
              "    [theme=dark] .colab-df-convert {\n",
              "      background-color: #3B4455;\n",
              "      fill: #D2E3FC;\n",
              "    }\n",
              "\n",
              "    [theme=dark] .colab-df-convert:hover {\n",
              "      background-color: #434B5C;\n",
              "      box-shadow: 0px 1px 3px 1px rgba(0, 0, 0, 0.15);\n",
              "      filter: drop-shadow(0px 1px 2px rgba(0, 0, 0, 0.3));\n",
              "      fill: #FFFFFF;\n",
              "    }\n",
              "  </style>\n",
              "\n",
              "      <script>\n",
              "        const buttonEl =\n",
              "          document.querySelector('#df-d0f7fc54-8630-461b-8816-684067187443 button.colab-df-convert');\n",
              "        buttonEl.style.display =\n",
              "          google.colab.kernel.accessAllowed ? 'block' : 'none';\n",
              "\n",
              "        async function convertToInteractive(key) {\n",
              "          const element = document.querySelector('#df-d0f7fc54-8630-461b-8816-684067187443');\n",
              "          const dataTable =\n",
              "            await google.colab.kernel.invokeFunction('convertToInteractive',\n",
              "                                                     [key], {});\n",
              "          if (!dataTable) return;\n",
              "\n",
              "          const docLinkHtml = 'Like what you see? Visit the ' +\n",
              "            '<a target=\"_blank\" href=https://colab.research.google.com/notebooks/data_table.ipynb>data table notebook</a>'\n",
              "            + ' to learn more about interactive tables.';\n",
              "          element.innerHTML = '';\n",
              "          dataTable['output_type'] = 'display_data';\n",
              "          await google.colab.output.renderOutput(dataTable, element);\n",
              "          const docLink = document.createElement('div');\n",
              "          docLink.innerHTML = docLinkHtml;\n",
              "          element.appendChild(docLink);\n",
              "        }\n",
              "      </script>\n",
              "    </div>\n",
              "  </div>\n",
              "  "
            ]
          },
          "metadata": {},
          "execution_count": 61
        }
      ]
    },
    {
      "cell_type": "code",
      "source": [
        "df.info()"
      ],
      "metadata": {
        "colab": {
          "base_uri": "https://localhost:8080/"
        },
        "id": "-HswPYjJTNxZ",
        "outputId": "a0de3f60-3349-4ded-ff12-a480e7623c82"
      },
      "execution_count": null,
      "outputs": [
        {
          "output_type": "stream",
          "name": "stdout",
          "text": [
            "<class 'pandas.core.frame.DataFrame'>\n",
            "RangeIndex: 164 entries, 0 to 163\n",
            "Data columns (total 17 columns):\n",
            " #   Column  Non-Null Count  Dtype \n",
            "---  ------  --------------  ----- \n",
            " 0   Date    164 non-null    object\n",
            " 1   JH      164 non-null    object\n",
            " 2   KD      163 non-null    object\n",
            " 3   KE      148 non-null    object\n",
            " 4   ML      148 non-null    object\n",
            " 5   NS      160 non-null    object\n",
            " 6   PH      148 non-null    object\n",
            " 7   PG      148 non-null    object\n",
            " 8   PK      148 non-null    object\n",
            " 9   PR      148 non-null    object\n",
            " 10  SB      148 non-null    object\n",
            " 11  SR      147 non-null    object\n",
            " 12  SE      164 non-null    object\n",
            " 13  TR      146 non-null    object\n",
            " 14  KL      161 non-null    object\n",
            " 15  PT      145 non-null    object\n",
            " 16  LB      148 non-null    object\n",
            "dtypes: object(17)\n",
            "memory usage: 21.9+ KB\n"
          ]
        }
      ]
    },
    {
      "cell_type": "code",
      "source": [
        "df.corr()"
      ],
      "metadata": {
        "colab": {
          "base_uri": "https://localhost:8080/",
          "height": 49
        },
        "id": "0w2nhoc6TZmU",
        "outputId": "04920482-fcc9-4a1d-dbbe-364797a42f4c"
      },
      "execution_count": null,
      "outputs": [
        {
          "output_type": "execute_result",
          "data": {
            "text/plain": [
              "Empty DataFrame\n",
              "Columns: []\n",
              "Index: []"
            ],
            "text/html": [
              "\n",
              "  <div id=\"df-9831e88c-220d-4ee8-b7c1-3245d7f1dcc6\">\n",
              "    <div class=\"colab-df-container\">\n",
              "      <div>\n",
              "<style scoped>\n",
              "    .dataframe tbody tr th:only-of-type {\n",
              "        vertical-align: middle;\n",
              "    }\n",
              "\n",
              "    .dataframe tbody tr th {\n",
              "        vertical-align: top;\n",
              "    }\n",
              "\n",
              "    .dataframe thead th {\n",
              "        text-align: right;\n",
              "    }\n",
              "</style>\n",
              "<table border=\"1\" class=\"dataframe\">\n",
              "  <thead>\n",
              "    <tr style=\"text-align: right;\">\n",
              "      <th></th>\n",
              "    </tr>\n",
              "  </thead>\n",
              "  <tbody>\n",
              "  </tbody>\n",
              "</table>\n",
              "</div>\n",
              "      <button class=\"colab-df-convert\" onclick=\"convertToInteractive('df-9831e88c-220d-4ee8-b7c1-3245d7f1dcc6')\"\n",
              "              title=\"Convert this dataframe to an interactive table.\"\n",
              "              style=\"display:none;\">\n",
              "        \n",
              "  <svg xmlns=\"http://www.w3.org/2000/svg\" height=\"24px\"viewBox=\"0 0 24 24\"\n",
              "       width=\"24px\">\n",
              "    <path d=\"M0 0h24v24H0V0z\" fill=\"none\"/>\n",
              "    <path d=\"M18.56 5.44l.94 2.06.94-2.06 2.06-.94-2.06-.94-.94-2.06-.94 2.06-2.06.94zm-11 1L8.5 8.5l.94-2.06 2.06-.94-2.06-.94L8.5 2.5l-.94 2.06-2.06.94zm10 10l.94 2.06.94-2.06 2.06-.94-2.06-.94-.94-2.06-.94 2.06-2.06.94z\"/><path d=\"M17.41 7.96l-1.37-1.37c-.4-.4-.92-.59-1.43-.59-.52 0-1.04.2-1.43.59L10.3 9.45l-7.72 7.72c-.78.78-.78 2.05 0 2.83L4 21.41c.39.39.9.59 1.41.59.51 0 1.02-.2 1.41-.59l7.78-7.78 2.81-2.81c.8-.78.8-2.07 0-2.86zM5.41 20L4 18.59l7.72-7.72 1.47 1.35L5.41 20z\"/>\n",
              "  </svg>\n",
              "      </button>\n",
              "      \n",
              "  <style>\n",
              "    .colab-df-container {\n",
              "      display:flex;\n",
              "      flex-wrap:wrap;\n",
              "      gap: 12px;\n",
              "    }\n",
              "\n",
              "    .colab-df-convert {\n",
              "      background-color: #E8F0FE;\n",
              "      border: none;\n",
              "      border-radius: 50%;\n",
              "      cursor: pointer;\n",
              "      display: none;\n",
              "      fill: #1967D2;\n",
              "      height: 32px;\n",
              "      padding: 0 0 0 0;\n",
              "      width: 32px;\n",
              "    }\n",
              "\n",
              "    .colab-df-convert:hover {\n",
              "      background-color: #E2EBFA;\n",
              "      box-shadow: 0px 1px 2px rgba(60, 64, 67, 0.3), 0px 1px 3px 1px rgba(60, 64, 67, 0.15);\n",
              "      fill: #174EA6;\n",
              "    }\n",
              "\n",
              "    [theme=dark] .colab-df-convert {\n",
              "      background-color: #3B4455;\n",
              "      fill: #D2E3FC;\n",
              "    }\n",
              "\n",
              "    [theme=dark] .colab-df-convert:hover {\n",
              "      background-color: #434B5C;\n",
              "      box-shadow: 0px 1px 3px 1px rgba(0, 0, 0, 0.15);\n",
              "      filter: drop-shadow(0px 1px 2px rgba(0, 0, 0, 0.3));\n",
              "      fill: #FFFFFF;\n",
              "    }\n",
              "  </style>\n",
              "\n",
              "      <script>\n",
              "        const buttonEl =\n",
              "          document.querySelector('#df-9831e88c-220d-4ee8-b7c1-3245d7f1dcc6 button.colab-df-convert');\n",
              "        buttonEl.style.display =\n",
              "          google.colab.kernel.accessAllowed ? 'block' : 'none';\n",
              "\n",
              "        async function convertToInteractive(key) {\n",
              "          const element = document.querySelector('#df-9831e88c-220d-4ee8-b7c1-3245d7f1dcc6');\n",
              "          const dataTable =\n",
              "            await google.colab.kernel.invokeFunction('convertToInteractive',\n",
              "                                                     [key], {});\n",
              "          if (!dataTable) return;\n",
              "\n",
              "          const docLinkHtml = 'Like what you see? Visit the ' +\n",
              "            '<a target=\"_blank\" href=https://colab.research.google.com/notebooks/data_table.ipynb>data table notebook</a>'\n",
              "            + ' to learn more about interactive tables.';\n",
              "          element.innerHTML = '';\n",
              "          dataTable['output_type'] = 'display_data';\n",
              "          await google.colab.output.renderOutput(dataTable, element);\n",
              "          const docLink = document.createElement('div');\n",
              "          docLink.innerHTML = docLinkHtml;\n",
              "          element.appendChild(docLink);\n",
              "        }\n",
              "      </script>\n",
              "    </div>\n",
              "  </div>\n",
              "  "
            ]
          },
          "metadata": {},
          "execution_count": 63
        }
      ]
    },
    {
      "cell_type": "code",
      "source": [
        "import matplotlib.pyplot as plt\n",
        "import seaborn as sns\n",
        "\n",
        "korelasi = df.corr()\n",
        "plt.figure(figsize=(15, 10))\n",
        "sns.heatmap(korelasi[(korelasi >= 0.5) | (korelasi <= -0.4)], cmap='viridis', vmax=1.0, vmin=-1.0, linewidths=0.1, \n",
        "            annot=True, annot_kws={\"size\": 8}, square=True).set_title('Korelasi Antar Variabel')\n",
        "plt.show()"
      ],
      "metadata": {
        "colab": {
          "base_uri": "https://localhost:8080/",
          "height": 665
        },
        "id": "xSv_T9u8TZ8H",
        "outputId": "6cb80336-4c97-46de-cb94-487930830c68"
      },
      "execution_count": null,
      "outputs": [
        {
          "output_type": "stream",
          "name": "stderr",
          "text": [
            "/usr/local/lib/python3.7/dist-packages/seaborn/matrix.py:305: UserWarning: Attempting to set identical bottom == top == 0 results in singular transformations; automatically expanding.\n",
            "  ax.set(xlim=(0, self.data.shape[1]), ylim=(0, self.data.shape[0]))\n",
            "/usr/local/lib/python3.7/dist-packages/seaborn/matrix.py:305: UserWarning: Attempting to set identical left == right == 0 results in singular transformations; automatically expanding.\n",
            "  ax.set(xlim=(0, self.data.shape[1]), ylim=(0, self.data.shape[0]))\n"
          ]
        },
        {
          "output_type": "display_data",
          "data": {
            "text/plain": [
              "<Figure size 1080x720 with 2 Axes>"
            ],
            "image/png": "[encoded data removed]"
          },
          "metadata": {
            "needs_background": "light"
          }
        }
      ]
    },
    {
      "cell_type": "code",
      "source": [
        "!pip install Sastrawi"
      ],
      "metadata": {
        "colab": {
          "base_uri": "https://localhost:8080/"
        },
        "id": "_35BMBPhTaEQ",
        "outputId": "ae83126e-2f8b-454c-e375-da3fda5355c6"
      },
      "execution_count": null,
      "outputs": [
        {
          "output_type": "stream",
          "name": "stdout",
          "text": [
            "Collecting Sastrawi\n",
            "  Downloading Sastrawi-1.0.1-py2.py3-none-any.whl (209 kB)\n",
            "\u001b[?25l\r\u001b[K     |█▋                              | 10 kB 21.9 MB/s eta 0:00:01\r\u001b[K     |███▏                            | 20 kB 11.6 MB/s eta 0:00:01\r\u001b[K     |████▊                           | 30 kB 6.9 MB/s eta 0:00:01\r\u001b[K     |██████▎                         | 40 kB 6.1 MB/s eta 0:00:01\r\u001b[K     |███████▉                        | 51 kB 2.7 MB/s eta 0:00:01\r\u001b[K     |█████████▍                      | 61 kB 3.2 MB/s eta 0:00:01\r\u001b[K     |███████████                     | 71 kB 3.5 MB/s eta 0:00:01\r\u001b[K     |████████████▌                   | 81 kB 3.6 MB/s eta 0:00:01\r\u001b[K     |██████████████                  | 92 kB 4.1 MB/s eta 0:00:01\r\u001b[K     |███████████████▋                | 102 kB 3.2 MB/s eta 0:00:01\r\u001b[K     |█████████████████▏              | 112 kB 3.2 MB/s eta 0:00:01\r\u001b[K     |██████████████████▊             | 122 kB 3.2 MB/s eta 0:00:01\r\u001b[K     |████████████████████▎           | 133 kB 3.2 MB/s eta 0:00:01\r\u001b[K     |█████████████████████▉          | 143 kB 3.2 MB/s eta 0:00:01\r\u001b[K     |███████████████████████▍        | 153 kB 3.2 MB/s eta 0:00:01\r\u001b[K     |█████████████████████████       | 163 kB 3.2 MB/s eta 0:00:01\r\u001b[K     |██████████████████████████▋     | 174 kB 3.2 MB/s eta 0:00:01\r\u001b[K     |████████████████████████████▏   | 184 kB 3.2 MB/s eta 0:00:01\r\u001b[K     |█████████████████████████████▊  | 194 kB 3.2 MB/s eta 0:00:01\r\u001b[K     |███████████████████████████████▎| 204 kB 3.2 MB/s eta 0:00:01\r\u001b[K     |████████████████████████████████| 209 kB 3.2 MB/s \n",
            "\u001b[?25hInstalling collected packages: Sastrawi\n",
            "Successfully installed Sastrawi-1.0.1\n"
          ]
        }
      ]
    },
    {
      "cell_type": "code",
      "source": [
        "import nltk #import library nltk\n",
        "from nltk.tokenize import word_tokenize #import word_tokenize for tokenizing text into words \n",
        "from nltk.tokenize import sent_tokenize #import sent_tokenize for tokenizing paragraph into sentences\n",
        "from nltk.stem.porter import PorterStemmer #import Porter Stemmer Algorithm \n",
        "from nltk.stem import WordNetLemmatizer #import WordNet lemmatizer \n",
        "from nltk.corpus import stopwords #import stopwords\n",
        "from Sastrawi.Stemmer.StemmerFactory import StemmerFactory #import Indonesian Stemmer\n",
        "import re #import regular expression\n",
        "from Sastrawi.StopWordRemover.StopWordRemoverFactory import StopWordRemoverFactory"
      ],
      "metadata": {
        "id": "TInK2b81TaHG"
      },
      "execution_count": null,
      "outputs": []
    },
    {
      "cell_type": "code",
      "source": [
        "#casefolding\n",
        "def casefolding(s):\n",
        "    new_str = s.lower()\n",
        "    \n",
        "    return new_str\n",
        "\n",
        "text_data = \"Saya bekerja sebagai guru. Karena ingin mengajarkan banyak orang. Selain itu, saya ingin ikut serta dalam pendidikan Indonesia.\"\n",
        "casefolding(text_data)"
      ],
      "metadata": {
        "colab": {
          "base_uri": "https://localhost:8080/",
          "height": 34
        },
        "id": "TiKphT4JTaKL",
        "outputId": "b0109574-5983-440e-8a9a-e1d36456b312"
      },
      "execution_count": null,
      "outputs": [
        {
          "output_type": "execute_result",
          "data": {
            "text/plain": [
              "'saya bekerja sebagai guru. karena ingin mengajarkan banyak orang. selain itu, saya ingin ikut serta dalam pendidikan indonesia.'"
            ],
            "application/vnd.google.colaboratory.intrinsic+json": {
              "type": "string"
            }
          },
          "metadata": {},
          "execution_count": 68
        }
      ]
    },
    {
      "cell_type": "code",
      "source": [
        "import nltk\n",
        "nltk.download('punkt')\n",
        "\n",
        "sent_tokenize(casefolding(text_data))"
      ],
      "metadata": {
        "colab": {
          "base_uri": "https://localhost:8080/"
        },
        "id": "n6JemuLrTaOb",
        "outputId": "839bd044-d857-4d46-f048-776103f36856"
      },
      "execution_count": null,
      "outputs": [
        {
          "output_type": "stream",
          "name": "stdout",
          "text": [
            "[nltk_data] Downloading package punkt to /root/nltk_data...\n",
            "[nltk_data]   Package punkt is already up-to-date!\n"
          ]
        },
        {
          "output_type": "execute_result",
          "data": {
            "text/plain": [
              "['saya bekerja sebagai guru.',\n",
              " 'karena ingin mengajarkan banyak orang.',\n",
              " 'selain itu, saya ingin ikut serta dalam pendidikan indonesia.']"
            ]
          },
          "metadata": {},
          "execution_count": 69
        }
      ]
    },
    {
      "cell_type": "code",
      "source": [
        "#Stemming Indonesian\n",
        "def stemmingIndo(str):\n",
        "    factory = StemmerFactory()\n",
        "    stemmer = factory.create_stemmer()\n",
        "    return stemmer.stem(str)\n",
        "\n",
        "stemmingIndo(text_data)"
      ],
      "metadata": {
        "colab": {
          "base_uri": "https://localhost:8080/",
          "height": 34
        },
        "id": "D9HXHZCVUBa8",
        "outputId": "e44ef3a7-d501-4fbf-a99f-711457240234"
      },
      "execution_count": null,
      "outputs": [
        {
          "output_type": "execute_result",
          "data": {
            "text/plain": [
              "'saya kerja bagai guru karena ingin ajar banyak orang selain itu saya ingin ikut serta dalam didik indonesia'"
            ],
            "application/vnd.google.colaboratory.intrinsic+json": {
              "type": "string"
            }
          },
          "metadata": {},
          "execution_count": 70
        }
      ]
    },
    {
      "cell_type": "code",
      "source": [
        "#sentence tokenization\n",
        "def sentence_tokenization(s):\n",
        "    sentences_list = sent_tokenize(s)\n",
        "    \n",
        "    return sentences_list\n",
        "\n",
        "sentence_tokenization(text_data)"
      ],
      "metadata": {
        "colab": {
          "base_uri": "https://localhost:8080/"
        },
        "id": "tVpXg6lpUBn9",
        "outputId": "3347d5d3-63fa-4bc8-e013-7eb58b86348e"
      },
      "execution_count": null,
      "outputs": [
        {
          "output_type": "execute_result",
          "data": {
            "text/plain": [
              "['Saya bekerja sebagai guru.',\n",
              " 'Karena ingin mengajarkan banyak orang.',\n",
              " 'Selain itu, saya ingin ikut serta dalam pendidikan Indonesia.']"
            ]
          },
          "metadata": {},
          "execution_count": 71
        }
      ]
    },
    {
      "cell_type": "code",
      "source": [
        "#word tokenization\n",
        "def word_tokenization(s):\n",
        "    tokens = word_tokenize(s)\n",
        "\n",
        "    return tokens\n",
        "    \n",
        "word_tokenization(text_data)"
      ],
      "metadata": {
        "colab": {
          "base_uri": "https://localhost:8080/"
        },
        "id": "OYYC4iMKUBrO",
        "outputId": "7e76d9de-55c0-4c01-e8f0-9ab74d9169f3"
      },
      "execution_count": null,
      "outputs": [
        {
          "output_type": "execute_result",
          "data": {
            "text/plain": [
              "['Saya',\n",
              " 'bekerja',\n",
              " 'sebagai',\n",
              " 'guru',\n",
              " '.',\n",
              " 'Karena',\n",
              " 'ingin',\n",
              " 'mengajarkan',\n",
              " 'banyak',\n",
              " 'orang',\n",
              " '.',\n",
              " 'Selain',\n",
              " 'itu',\n",
              " ',',\n",
              " 'saya',\n",
              " 'ingin',\n",
              " 'ikut',\n",
              " 'serta',\n",
              " 'dalam',\n",
              " 'pendidikan',\n",
              " 'Indonesia',\n",
              " '.']"
            ]
          },
          "metadata": {},
          "execution_count": 72
        }
      ]
    },
    {
      "cell_type": "code",
      "source": [
        "word_tokenization(stemmingIndo(text_data))"
      ],
      "metadata": {
        "colab": {
          "base_uri": "https://localhost:8080/"
        },
        "id": "SFQW1C22UBuJ",
        "outputId": "d3fa18c9-4313-473f-d36a-2f506a30a0ef"
      },
      "execution_count": null,
      "outputs": [
        {
          "output_type": "execute_result",
          "data": {
            "text/plain": [
              "['saya',\n",
              " 'kerja',\n",
              " 'bagai',\n",
              " 'guru',\n",
              " 'karena',\n",
              " 'ingin',\n",
              " 'ajar',\n",
              " 'banyak',\n",
              " 'orang',\n",
              " 'selain',\n",
              " 'itu',\n",
              " 'saya',\n",
              " 'ingin',\n",
              " 'ikut',\n",
              " 'serta',\n",
              " 'dalam',\n",
              " 'didik',\n",
              " 'indonesia']"
            ]
          },
          "metadata": {},
          "execution_count": 73
        }
      ]
    },
    {
      "cell_type": "code",
      "source": [
        "#Stopwords removing\n",
        "factory = StopWordRemoverFactory()\n",
        "stopword = factory.create_stop_word_remover()\n",
        "stopword.remove(text_data)"
      ],
      "metadata": {
        "colab": {
          "base_uri": "https://localhost:8080/",
          "height": 34
        },
        "id": "rI8LMJ1OUBwC",
        "outputId": "b94e8752-59ff-4220-d643-d12407545c62"
      },
      "execution_count": null,
      "outputs": [
        {
          "output_type": "execute_result",
          "data": {
            "text/plain": [
              "'Saya bekerja guru. Karena mengajarkan banyak orang. Selain itu, ingin ikut dalam pendidikan Indonesia.'"
            ],
            "application/vnd.google.colaboratory.intrinsic+json": {
              "type": "string"
            }
          },
          "metadata": {},
          "execution_count": 74
        }
      ]
    },
    {
      "cell_type": "code",
      "source": [
        "#Stemming English\n",
        "def stemmingEnglish(str):\n",
        "    porter_stemmer = PorterStemmer()\n",
        "    words = word_tokenize(str)\n",
        "    result = list()\n",
        "    for word in words:\n",
        "        result.append(porter_stemmer.stem(word))\n",
        "        \n",
        "    return ' '.join(result)\n",
        "\n",
        "    text_data = \"She had been with her father and sister when she was attacked and received first aid at the scene, an official said.\"\n",
        "stemmingEnglish(text_data)"
      ],
      "metadata": {
        "colab": {
          "base_uri": "https://localhost:8080/",
          "height": 34
        },
        "id": "ZhyTDrXgUBzY",
        "outputId": "7270a705-6a7b-464e-e66a-8086f9f5b9ba"
      },
      "execution_count": null,
      "outputs": [
        {
          "output_type": "execute_result",
          "data": {
            "text/plain": [
              "'saya bekerja sebagai guru . karena ingin mengajarkan banyak orang . selain itu , saya ingin ikut serta dalam pendidikan indonesia .'"
            ],
            "application/vnd.google.colaboratory.intrinsic+json": {
              "type": "string"
            }
          },
          "metadata": {},
          "execution_count": 75
        }
      ]
    },
    {
      "cell_type": "code",
      "source": [
        "porter_stemmer = PorterStemmer()\n",
        "\n",
        "word_data = \"It originated from the idea that there are readers who prefer learning new skills from the comforts of their drawing rooms\"\n",
        "# First Word tokenization\n",
        "nltk_tokens = nltk.word_tokenize(word_data)\n",
        "#Next find the roots of the word\n",
        "for w in nltk_tokens:\n",
        "       print(\"Actual: %s  Stem: %s\"  % (w,porter_stemmer.stem(w)))"
      ],
      "metadata": {
        "colab": {
          "base_uri": "https://localhost:8080/"
        },
        "id": "zp5wJHueUB3I",
        "outputId": "27fe010c-9767-4d4d-9895-41a0ae27877d"
      },
      "execution_count": null,
      "outputs": [
        {
          "output_type": "stream",
          "name": "stdout",
          "text": [
            "Actual: It  Stem: It\n",
            "Actual: originated  Stem: origin\n",
            "Actual: from  Stem: from\n",
            "Actual: the  Stem: the\n",
            "Actual: idea  Stem: idea\n",
            "Actual: that  Stem: that\n",
            "Actual: there  Stem: there\n",
            "Actual: are  Stem: are\n",
            "Actual: readers  Stem: reader\n",
            "Actual: who  Stem: who\n",
            "Actual: prefer  Stem: prefer\n",
            "Actual: learning  Stem: learn\n",
            "Actual: new  Stem: new\n",
            "Actual: skills  Stem: skill\n",
            "Actual: from  Stem: from\n",
            "Actual: the  Stem: the\n",
            "Actual: comforts  Stem: comfort\n",
            "Actual: of  Stem: of\n",
            "Actual: their  Stem: their\n",
            "Actual: drawing  Stem: draw\n",
            "Actual: rooms  Stem: room\n"
          ]
        }
      ]
    },
    {
      "cell_type": "code",
      "source": [
        "#Lemmatization\n",
        "nltk.download('wordnet')\n",
        "wordnet_lemmatizer = WordNetLemmatizer()\n",
        "\n",
        "word_data = \"It originated from the idea that there are readers who prefer learning new skills from the comforts of their drawing rooms\"\n",
        "nltk_tokens = nltk.word_tokenize(word_data)\n",
        "for w in nltk_tokens:\n",
        "       print (\"Actual: %s  Lemma: %s\"  % (w,wordnet_lemmatizer.lemmatize(w)))"
      ],
      "metadata": {
        "colab": {
          "base_uri": "https://localhost:8080/"
        },
        "id": "frFBpof4UB7b",
        "outputId": "e5fe7903-3e1c-4719-ad0a-010b2c601164"
      },
      "execution_count": null,
      "outputs": [
        {
          "output_type": "stream",
          "name": "stdout",
          "text": [
            "[nltk_data] Downloading package wordnet to /root/nltk_data...\n",
            "[nltk_data]   Unzipping corpora/wordnet.zip.\n",
            "Actual: It  Lemma: It\n",
            "Actual: originated  Lemma: originated\n",
            "Actual: from  Lemma: from\n",
            "Actual: the  Lemma: the\n",
            "Actual: idea  Lemma: idea\n",
            "Actual: that  Lemma: that\n",
            "Actual: there  Lemma: there\n",
            "Actual: are  Lemma: are\n",
            "Actual: readers  Lemma: reader\n",
            "Actual: who  Lemma: who\n",
            "Actual: prefer  Lemma: prefer\n",
            "Actual: learning  Lemma: learning\n",
            "Actual: new  Lemma: new\n",
            "Actual: skills  Lemma: skill\n",
            "Actual: from  Lemma: from\n",
            "Actual: the  Lemma: the\n",
            "Actual: comforts  Lemma: comfort\n",
            "Actual: of  Lemma: of\n",
            "Actual: their  Lemma: their\n",
            "Actual: drawing  Lemma: drawing\n",
            "Actual: rooms  Lemma: room\n"
          ]
        }
      ]
    },
    {
      "cell_type": "code",
      "source": [
        "#remove digit from string\n",
        "def removeDigit(str):\n",
        "    new_string =  re.sub(r\"[0-9]\", \" \", str)\n",
        "    return new_string\n",
        "\n",
        "text_data = \"Tanggal lahir ku adalah 14 Oktober 2021, sedangkan adikku pada 27 Agustus 2008\"\n",
        "removeDigit(text_data)"
      ],
      "metadata": {
        "colab": {
          "base_uri": "https://localhost:8080/",
          "height": 34
        },
        "id": "6Zd3RvJHUB-v",
        "outputId": "7f2d93a8-0eec-4ced-9b2f-9f94f743cb42"
      },
      "execution_count": null,
      "outputs": [
        {
          "output_type": "execute_result",
          "data": {
            "text/plain": [
              "'Tanggal lahir ku adalah    Oktober     , sedangkan adikku pada    Agustus     '"
            ],
            "application/vnd.google.colaboratory.intrinsic+json": {
              "type": "string"
            }
          },
          "metadata": {},
          "execution_count": 77
        }
      ]
    },
    {
      "cell_type": "code",
      "source": [
        "#pos tagging\n",
        "nltk.download('averaged_perceptron_tagger')\n",
        "def postag(str):\n",
        "    tok_sentence = nltk.word_tokenize(str)\n",
        "    tagged_sentence = nltk.pos_tag(tok_sentence)\n",
        "    return tagged_sentence\n",
        "\n",
        "text_data = \"It originated from the idea that there are readers who prefer learning new skills from the comforts of their drawing rooms\"\n",
        "postag(text_data)"
      ],
      "metadata": {
        "colab": {
          "base_uri": "https://localhost:8080/"
        },
        "id": "mykYWpcuUCDR",
        "outputId": "d5183006-bb26-4e04-e888-6dfed0e1c896"
      },
      "execution_count": null,
      "outputs": [
        {
          "output_type": "stream",
          "name": "stdout",
          "text": [
            "[nltk_data] Downloading package averaged_perceptron_tagger to\n",
            "[nltk_data]     /root/nltk_data...\n",
            "[nltk_data]   Unzipping taggers/averaged_perceptron_tagger.zip.\n"
          ]
        },
        {
          "output_type": "execute_result",
          "data": {
            "text/plain": [
              "[('It', 'PRP'),\n",
              " ('originated', 'VBD'),\n",
              " ('from', 'IN'),\n",
              " ('the', 'DT'),\n",
              " ('idea', 'NN'),\n",
              " ('that', 'IN'),\n",
              " ('there', 'EX'),\n",
              " ('are', 'VBP'),\n",
              " ('readers', 'NNS'),\n",
              " ('who', 'WP'),\n",
              " ('prefer', 'VBP'),\n",
              " ('learning', 'VBG'),\n",
              " ('new', 'JJ'),\n",
              " ('skills', 'NNS'),\n",
              " ('from', 'IN'),\n",
              " ('the', 'DT'),\n",
              " ('comforts', 'NNS'),\n",
              " ('of', 'IN'),\n",
              " ('their', 'PRP$'),\n",
              " ('drawing', 'NN'),\n",
              " ('rooms', 'NNS')]"
            ]
          },
          "metadata": {},
          "execution_count": 31
        }
      ]
    },
    {
      "cell_type": "code",
      "source": [
        "import re, string, unicodedata\n",
        "\n",
        "def cleaning(str):\n",
        "    #remove non-ascii\n",
        "    str = unicodedata.normalize('NFKD', str).encode('ascii', 'ignore').decode('utf-8', 'ignore')\n",
        "    #remove URLs\n",
        "    str = re.sub(r'(?i)\\b((?:https?://|www\\d{0,3}[.]|[a-z0-9.\\-]+[.][a-z]{2,4}/)(?:[^\\s()<>]+|\\(([^\\s()<>]+|(\\([^\\s()<>]+\\)))*\\))+(?:\\(([^\\s()<>]+|(\\([^\\s()<>]+\\)))*\\)|[^\\s`!()\\[\\]{};:\\'\".,<>?«»“”‘’]))', '', str)\n",
        "    #remove punctuations\n",
        "    str = re.sub(r'[^\\w]|_',' ',str)\n",
        "    #remove digit from string\n",
        "    str = re.sub(\"\\S*\\d\\S*\", \"\", str).strip()\n",
        "    #remove digit or numbers\n",
        "    str = re.sub(r\"\\b\\d+\\b\", \" \", str)\n",
        "    #to lowercase\n",
        "    str = str.lower()\n",
        "    #Remove additional white spaces\n",
        "    str = re.sub('[\\s]+', ' ', str)\n",
        "    \n",
        "    return str\n",
        "\n",
        "str = \"Copyright © 2008 John Wiley & Sons, Ltd. adalah ini https://www.analyticsvidhya.com/blog/2015/10/6-practices-enhance-performance-text-classification-model/\"\n",
        "print(cleaning(str))"
      ],
      "metadata": {
        "colab": {
          "base_uri": "https://localhost:8080/"
        },
        "id": "7ssBYcPoUCGW",
        "outputId": "3572cec8-5d37-49f9-90fa-f1018528e791"
      },
      "execution_count": null,
      "outputs": [
        {
          "output_type": "stream",
          "name": "stdout",
          "text": [
            "copyright john wiley sons ltd adalah ini\n"
          ]
        }
      ]
    },
    {
      "cell_type": "code",
      "source": [
        "import base64\n",
        "import requests\n",
        "\n",
        "url = 'https://raw.githubusercontent.com/alif-rakasha/filetxt/main/matahari.txt'\n",
        "txt = requests.get(url)\n",
        "txt = txt.text\n",
        "print(txt)"
      ],
      "metadata": {
        "colab": {
          "base_uri": "https://localhost:8080/"
        },
        "id": "ApVuvJIdUCKS",
        "outputId": "345c9815-2591-4389-a93c-1d43d0162dcd"
      },
      "execution_count": null,
      "outputs": [
        {
          "output_type": "stream",
          "name": "stdout",
          "text": [
            "Matahari adalah bintang yang merupakan pusat tata surya, memancarkan panas dan cahaya ke Bumi dan planet-planet lain yang mengedarinya, sebagian besar kandungannya berupa hidrogen dan helium.\r\n",
            "\r\n",
            "Di mana letak matahari? Matahari adalah terletak di galaksi terbesar bernama Bima Sakti. Kementerian Pendidikan dan Kebudayaan menjelaskan matahari adalah bintang yang paling dekat dengan bumi. Pengertian matahari adalah benda panas yang tersusun dari gas bertekanan tinggi.\r\n",
            "\r\n",
            "“Diameter Matahari 109 kali diameter Bumi, yaitu 1,4 juta km. Walaupun Matahari itu berbentuk gas, beratnya lebih dari 300.000 kali berat Bumi. Suhu permukaan matahari 6.000 derajat celsius yang dipancarkan ke luar angkasa hingga sampai ke permukaan bumi, sedangkan suhu inti sebesar 15-20 juta derajat Celsius,” dijelaskan.\r\n",
            "\r\n",
            "Berasal darimana sumber energi matahari? Dijelaskan, sumber energi matahari adalah dari reaksi fusi di dalam inti matahari. Reaksi fusi terjadi di dalam inti matahari, di mana atom-atom hidrogen menjadi helium. Pada reaksi fusi ini, energi yang sangat besar akan terbentuk.\r\n",
            "\r\n",
            "“Matahari tersusun dari berbagai macam gas antara lain hidrogen (76%), helium (22%), oksigen dan gas lain (2%),” dijelaskan.\n"
          ]
        }
      ]
    },
    {
      "cell_type": "code",
      "source": [
        "clean_txt = cleaning(txt)\n",
        "print(clean_txt)"
      ],
      "metadata": {
        "colab": {
          "base_uri": "https://localhost:8080/"
        },
        "id": "aLS_YzIlUCNx",
        "outputId": "7d0aed7b-b572-49cf-d732-e7b8f04a0693"
      },
      "execution_count": null,
      "outputs": [
        {
          "output_type": "stream",
          "name": "stdout",
          "text": [
            "matahari adalah bintang yang merupakan pusat tata surya memancarkan panas dan cahaya ke bumi dan planet planet lain yang mengedarinya sebagian besar kandungannya berupa hidrogen dan helium di mana letak matahari matahari adalah terletak di galaksi terbesar bernama bima sakti kementerian pendidikan dan kebudayaan menjelaskan matahari adalah bintang yang paling dekat dengan bumi pengertian matahari adalah benda panas yang tersusun dari gas bertekanan tinggi diameter matahari kali diameter bumi yaitu juta km walaupun matahari itu berbentuk gas beratnya lebih dari kali berat bumi suhu permukaan matahari derajat celsius yang dipancarkan ke luar angkasa hingga sampai ke permukaan bumi sedangkan suhu inti sebesar juta derajat celsius dijelaskan berasal darimana sumber energi matahari dijelaskan sumber energi matahari adalah dari reaksi fusi di dalam inti matahari reaksi fusi terjadi di dalam inti matahari di mana atom atom hidrogen menjadi helium pada reaksi fusi ini energi yang sangat besar akan terbentuk matahari tersusun dari berbagai macam gas antara lain hidrogen helium oksigen dan gas lain dijelaskan\n"
          ]
        }
      ]
    },
    {
      "cell_type": "code",
      "source": [
        "stop = stopword.remove(clean_txt)\n",
        "print(stop)"
      ],
      "metadata": {
        "colab": {
          "base_uri": "https://localhost:8080/"
        },
        "id": "iqohiRZOVX7U",
        "outputId": "563f4928-62ae-46fd-e2a0-fce30cb905b7"
      },
      "execution_count": null,
      "outputs": [
        {
          "output_type": "stream",
          "name": "stdout",
          "text": [
            "matahari bintang merupakan pusat tata surya memancarkan panas cahaya bumi planet planet mengedarinya sebagian besar kandungannya berupa hidrogen helium mana letak matahari matahari terletak galaksi terbesar bernama bima sakti kementerian pendidikan kebudayaan menjelaskan matahari bintang paling dekat bumi pengertian matahari benda panas tersusun gas bertekanan tinggi diameter matahari kali diameter bumi juta km walaupun matahari berbentuk gas beratnya lebih kali berat bumi suhu permukaan matahari derajat celsius dipancarkan luar angkasa hingga ke permukaan bumi suhu inti sebesar juta derajat celsius dijelaskan berasal darimana sumber energi matahari dijelaskan sumber energi matahari reaksi fusi dalam inti matahari reaksi fusi terjadi dalam inti matahari mana atom atom hidrogen menjadi helium reaksi fusi energi yang sangat besar terbentuk matahari tersusun dari berbagai macam gas hidrogen helium oksigen gas lain dijelaskan\n"
          ]
        }
      ]
    },
    {
      "cell_type": "code",
      "source": [
        "from wordcloud import WordCloud\n",
        "import matplotlib.pyplot as plt\n",
        "\n",
        "wordcloud = WordCloud(max_font_size=30, background_color=\"white\").generate(stop)\n",
        "plt.figure(figsize=(10,8))\n",
        "\n",
        "#plot wordcloud in matplotlib\n",
        "\n",
        "plt.imshow(wordcloud, interpolation=\"bilinear\")\n",
        "plt.axis(\"off\")\n",
        "plt.show()"
      ],
      "metadata": {
        "colab": {
          "base_uri": "https://localhost:8080/",
          "height": 310
        },
        "id": "uThRGZWgViL3",
        "outputId": "01a617ad-4265-4a2c-d7fc-bde9e9db0111"
      },
      "execution_count": null,
      "outputs": [
        {
          "output_type": "display_data",
          "data": {
            "text/plain": [
              "<Figure size 720x576 with 1 Axes>"
            ],
            "image/png": "[encoded data removed]"
          },
          "metadata": {
            "needs_background": "light"
          }
        }
      ]
    },
    {
      "cell_type": "code",
      "source": [
        "words_in_article = stop.split()\n",
        "\n",
        "print(words_in_article)"
      ],
      "metadata": {
        "colab": {
          "base_uri": "https://localhost:8080/"
        },
        "id": "hAACNT13Vlh5",
        "outputId": "e61d3da3-b444-4a54-9344-4aa148a5b0d4"
      },
      "execution_count": null,
      "outputs": [
        {
          "output_type": "stream",
          "name": "stdout",
          "text": [
            "['matahari', 'bintang', 'merupakan', 'pusat', 'tata', 'surya', 'memancarkan', 'panas', 'cahaya', 'bumi', 'planet', 'planet', 'mengedarinya', 'sebagian', 'besar', 'kandungannya', 'berupa', 'hidrogen', 'helium', 'mana', 'letak', 'matahari', 'matahari', 'terletak', 'galaksi', 'terbesar', 'bernama', 'bima', 'sakti', 'kementerian', 'pendidikan', 'kebudayaan', 'menjelaskan', 'matahari', 'bintang', 'paling', 'dekat', 'bumi', 'pengertian', 'matahari', 'benda', 'panas', 'tersusun', 'gas', 'bertekanan', 'tinggi', 'diameter', 'matahari', 'kali', 'diameter', 'bumi', 'juta', 'km', 'walaupun', 'matahari', 'berbentuk', 'gas', 'beratnya', 'lebih', 'kali', 'berat', 'bumi', 'suhu', 'permukaan', 'matahari', 'derajat', 'celsius', 'dipancarkan', 'luar', 'angkasa', 'hingga', 'ke', 'permukaan', 'bumi', 'suhu', 'inti', 'sebesar', 'juta', 'derajat', 'celsius', 'dijelaskan', 'berasal', 'darimana', 'sumber', 'energi', 'matahari', 'dijelaskan', 'sumber', 'energi', 'matahari', 'reaksi', 'fusi', 'dalam', 'inti', 'matahari', 'reaksi', 'fusi', 'terjadi', 'dalam', 'inti', 'matahari', 'mana', 'atom', 'atom', 'hidrogen', 'menjadi', 'helium', 'reaksi', 'fusi', 'energi', 'yang', 'sangat', 'besar', 'terbentuk', 'matahari', 'tersusun', 'dari', 'berbagai', 'macam', 'gas', 'hidrogen', 'helium', 'oksigen', 'gas', 'lain', 'dijelaskan']\n"
          ]
        }
      ]
    },
    {
      "cell_type": "code",
      "source": [
        "import collections\n",
        "import itertools\n",
        "\n",
        "# Create counter\n",
        "counts_no_urls = collections.Counter(words_in_article)\n",
        "\n",
        "counts_no_urls.most_common(5)"
      ],
      "metadata": {
        "colab": {
          "base_uri": "https://localhost:8080/"
        },
        "id": "VyXcuo7pVlkZ",
        "outputId": "1d1c1a2e-7259-4c9e-f6b2-62d70e98bed8"
      },
      "execution_count": null,
      "outputs": [
        {
          "output_type": "execute_result",
          "data": {
            "text/plain": [
              "[('matahari', 13), ('bumi', 5), ('gas', 4), ('hidrogen', 3), ('helium', 3)]"
            ]
          },
          "metadata": {},
          "execution_count": 94
        }
      ]
    },
    {
      "cell_type": "code",
      "source": [
        "df_txt = pd.DataFrame(counts_no_urls.most_common(15), columns=['words', 'count'])\n",
        "df_txt.head()"
      ],
      "metadata": {
        "colab": {
          "base_uri": "https://localhost:8080/",
          "height": 206
        },
        "id": "YGu0Ey9zVlmm",
        "outputId": "b622f458-e36b-4cec-9e8a-816dca70bbfe"
      },
      "execution_count": null,
      "outputs": [
        {
          "output_type": "execute_result",
          "data": {
            "text/plain": [
              "      words  count\n",
              "0  matahari     13\n",
              "1      bumi      5\n",
              "2       gas      4\n",
              "3  hidrogen      3\n",
              "4    helium      3"
            ],
            "text/html": [
              "\n",
              "  <div id=\"df-f92e42f1-a0f6-413b-8bb0-d59b55cb4e7b\">\n",
              "    <div class=\"colab-df-container\">\n",
              "      <div>\n",
              "<style scoped>\n",
              "    .dataframe tbody tr th:only-of-type {\n",
              "        vertical-align: middle;\n",
              "    }\n",
              "\n",
              "    .dataframe tbody tr th {\n",
              "        vertical-align: top;\n",
              "    }\n",
              "\n",
              "    .dataframe thead th {\n",
              "        text-align: right;\n",
              "    }\n",
              "</style>\n",
              "<table border=\"1\" class=\"dataframe\">\n",
              "  <thead>\n",
              "    <tr style=\"text-align: right;\">\n",
              "      <th></th>\n",
              "      <th>words</th>\n",
              "      <th>count</th>\n",
              "    </tr>\n",
              "  </thead>\n",
              "  <tbody>\n",
              "    <tr>\n",
              "      <th>0</th>\n",
              "      <td>matahari</td>\n",
              "      <td>13</td>\n",
              "    </tr>\n",
              "    <tr>\n",
              "      <th>1</th>\n",
              "      <td>bumi</td>\n",
              "      <td>5</td>\n",
              "    </tr>\n",
              "    <tr>\n",
              "      <th>2</th>\n",
              "      <td>gas</td>\n",
              "      <td>4</td>\n",
              "    </tr>\n",
              "    <tr>\n",
              "      <th>3</th>\n",
              "      <td>hidrogen</td>\n",
              "      <td>3</td>\n",
              "    </tr>\n",
              "    <tr>\n",
              "      <th>4</th>\n",
              "      <td>helium</td>\n",
              "      <td>3</td>\n",
              "    </tr>\n",
              "  </tbody>\n",
              "</table>\n",
              "</div>\n",
              "      <button class=\"colab-df-convert\" onclick=\"convertToInteractive('df-f92e42f1-a0f6-413b-8bb0-d59b55cb4e7b')\"\n",
              "              title=\"Convert this dataframe to an interactive table.\"\n",
              "              style=\"display:none;\">\n",
              "        \n",
              "  <svg xmlns=\"http://www.w3.org/2000/svg\" height=\"24px\"viewBox=\"0 0 24 24\"\n",
              "       width=\"24px\">\n",
              "    <path d=\"M0 0h24v24H0V0z\" fill=\"none\"/>\n",
              "    <path d=\"M18.56 5.44l.94 2.06.94-2.06 2.06-.94-2.06-.94-.94-2.06-.94 2.06-2.06.94zm-11 1L8.5 8.5l.94-2.06 2.06-.94-2.06-.94L8.5 2.5l-.94 2.06-2.06.94zm10 10l.94 2.06.94-2.06 2.06-.94-2.06-.94-.94-2.06-.94 2.06-2.06.94z\"/><path d=\"M17.41 7.96l-1.37-1.37c-.4-.4-.92-.59-1.43-.59-.52 0-1.04.2-1.43.59L10.3 9.45l-7.72 7.72c-.78.78-.78 2.05 0 2.83L4 21.41c.39.39.9.59 1.41.59.51 0 1.02-.2 1.41-.59l7.78-7.78 2.81-2.81c.8-.78.8-2.07 0-2.86zM5.41 20L4 18.59l7.72-7.72 1.47 1.35L5.41 20z\"/>\n",
              "  </svg>\n",
              "      </button>\n",
              "      \n",
              "  <style>\n",
              "    .colab-df-container {\n",
              "      display:flex;\n",
              "      flex-wrap:wrap;\n",
              "      gap: 12px;\n",
              "    }\n",
              "\n",
              "    .colab-df-convert {\n",
              "      background-color: #E8F0FE;\n",
              "      border: none;\n",
              "      border-radius: 50%;\n",
              "      cursor: pointer;\n",
              "      display: none;\n",
              "      fill: #1967D2;\n",
              "      height: 32px;\n",
              "      padding: 0 0 0 0;\n",
              "      width: 32px;\n",
              "    }\n",
              "\n",
              "    .colab-df-convert:hover {\n",
              "      background-color: #E2EBFA;\n",
              "      box-shadow: 0px 1px 2px rgba(60, 64, 67, 0.3), 0px 1px 3px 1px rgba(60, 64, 67, 0.15);\n",
              "      fill: #174EA6;\n",
              "    }\n",
              "\n",
              "    [theme=dark] .colab-df-convert {\n",
              "      background-color: #3B4455;\n",
              "      fill: #D2E3FC;\n",
              "    }\n",
              "\n",
              "    [theme=dark] .colab-df-convert:hover {\n",
              "      background-color: #434B5C;\n",
              "      box-shadow: 0px 1px 3px 1px rgba(0, 0, 0, 0.15);\n",
              "      filter: drop-shadow(0px 1px 2px rgba(0, 0, 0, 0.3));\n",
              "      fill: #FFFFFF;\n",
              "    }\n",
              "  </style>\n",
              "\n",
              "      <script>\n",
              "        const buttonEl =\n",
              "          document.querySelector('#df-f92e42f1-a0f6-413b-8bb0-d59b55cb4e7b button.colab-df-convert');\n",
              "        buttonEl.style.display =\n",
              "          google.colab.kernel.accessAllowed ? 'block' : 'none';\n",
              "\n",
              "        async function convertToInteractive(key) {\n",
              "          const element = document.querySelector('#df-f92e42f1-a0f6-413b-8bb0-d59b55cb4e7b');\n",
              "          const dataTable =\n",
              "            await google.colab.kernel.invokeFunction('convertToInteractive',\n",
              "                                                     [key], {});\n",
              "          if (!dataTable) return;\n",
              "\n",
              "          const docLinkHtml = 'Like what you see? Visit the ' +\n",
              "            '<a target=\"_blank\" href=https://colab.research.google.com/notebooks/data_table.ipynb>data table notebook</a>'\n",
              "            + ' to learn more about interactive tables.';\n",
              "          element.innerHTML = '';\n",
              "          dataTable['output_type'] = 'display_data';\n",
              "          await google.colab.output.renderOutput(dataTable, element);\n",
              "          const docLink = document.createElement('div');\n",
              "          docLink.innerHTML = docLinkHtml;\n",
              "          element.appendChild(docLink);\n",
              "        }\n",
              "      </script>\n",
              "    </div>\n",
              "  </div>\n",
              "  "
            ]
          },
          "metadata": {},
          "execution_count": 95
        }
      ]
    },
    {
      "cell_type": "code",
      "source": [
        "fig, ax = plt.subplots(figsize=(5, 5))\n",
        "\n",
        "# Plot horizontal bar graph\n",
        "df_txt.sort_values(by='count').plot.barh(x='words',\n",
        "                      y='count',\n",
        "                      ax=ax,\n",
        "                      color=\"blue\")\n",
        "\n",
        "ax.set_title(\"Kata yang sering banyak muncul dari teks eksposisi Matahari\")\n",
        "\n",
        "plt.show()"
      ],
      "metadata": {
        "colab": {
          "base_uri": "https://localhost:8080/",
          "height": 336
        },
        "id": "G9lLd6DcVlpv",
        "outputId": "8f5c653c-14eb-48be-9919-d4695679264a"
      },
      "execution_count": null,
      "outputs": [
        {
          "output_type": "display_data",
          "data": {
            "text/plain": [
              "<Figure size 360x360 with 1 Axes>"
            ],
            "image/png": "[encoded data removed]"
          },
          "metadata": {
            "needs_background": "light"
          }
        }
      ]
    }
  ]
}